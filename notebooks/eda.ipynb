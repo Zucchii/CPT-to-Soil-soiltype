{
 "cells": [
  {
   "cell_type": "markdown",
   "metadata": {},
   "source": [
    "# Exploratory data analysis"
   ]
  },
  {
   "cell_type": "code",
   "execution_count": 1,
   "metadata": {},
   "outputs": [
    {
     "name": "stdout",
     "output_type": "stream",
     "text": [
      "hello world\n"
     ]
    }
   ],
   "source": [
    "print (\"hello world\")"
   ]
  },
  {
   "cell_type": "markdown",
   "metadata": {},
   "source": [
    "## Manual exploration of data"
   ]
  },
  {
   "cell_type": "code",
   "execution_count": 7,
   "metadata": {},
   "outputs": [
    {
     "name": "stderr",
     "output_type": "stream",
     "text": [
      "C:\\Users\\Zakieh\\AppData\\Local\\Temp\\ipykernel_14704\\3488825177.py:3: DtypeWarning: Columns (26) have mixed types. Specify dtype option on import or set low_memory=False.\n",
      "  df = pd.read_csv(FILEPATH)\n"
     ]
    },
    {
     "data": {
      "text/html": [
       "<div>\n",
       "<style scoped>\n",
       "    .dataframe tbody tr th:only-of-type {\n",
       "        vertical-align: middle;\n",
       "    }\n",
       "\n",
       "    .dataframe tbody tr th {\n",
       "        vertical-align: top;\n",
       "    }\n",
       "\n",
       "    .dataframe thead th {\n",
       "        text-align: right;\n",
       "    }\n",
       "</style>\n",
       "<table border=\"1\" class=\"dataframe\">\n",
       "  <thead>\n",
       "    <tr style=\"text-align: right;\">\n",
       "      <th></th>\n",
       "      <th>ID</th>\n",
       "      <th>test_type</th>\n",
       "      <th>basin_valley</th>\n",
       "      <th>Depth (m)</th>\n",
       "      <th>qc (MPa)</th>\n",
       "      <th>fs (kPa)</th>\n",
       "      <th>u2 (kPa)</th>\n",
       "      <th>Vs (m/s)</th>\n",
       "      <th>qt (MPa)</th>\n",
       "      <th>Rf (%)</th>\n",
       "      <th>...</th>\n",
       "      <th>U2 (-)</th>\n",
       "      <th>SBT (-)</th>\n",
       "      <th>SBTn (-)</th>\n",
       "      <th>Mod. SBTn (-)</th>\n",
       "      <th>n</th>\n",
       "      <th>Ic (-)</th>\n",
       "      <th>Ic SBT (-)</th>\n",
       "      <th>Ib (-)</th>\n",
       "      <th>EN_ISO_14688_classes</th>\n",
       "      <th>Oberhollenzer_classes</th>\n",
       "    </tr>\n",
       "  </thead>\n",
       "  <tbody>\n",
       "    <tr>\n",
       "      <th>0</th>\n",
       "      <td>0</td>\n",
       "      <td>CPT</td>\n",
       "      <td>Zell basin</td>\n",
       "      <td>0.02</td>\n",
       "      <td>1.15</td>\n",
       "      <td>1.0</td>\n",
       "      <td>NaN</td>\n",
       "      <td>NaN</td>\n",
       "      <td>1.77</td>\n",
       "      <td>0.06</td>\n",
       "      <td>...</td>\n",
       "      <td>NaN</td>\n",
       "      <td>0.0</td>\n",
       "      <td>0.0</td>\n",
       "      <td>0.0</td>\n",
       "      <td>-0.12</td>\n",
       "      <td>2.56</td>\n",
       "      <td>2.23</td>\n",
       "      <td>25.61</td>\n",
       "      <td>NaN</td>\n",
       "      <td>NaN</td>\n",
       "    </tr>\n",
       "    <tr>\n",
       "      <th>1</th>\n",
       "      <td>0</td>\n",
       "      <td>CPT</td>\n",
       "      <td>Zell basin</td>\n",
       "      <td>0.04</td>\n",
       "      <td>2.85</td>\n",
       "      <td>1.0</td>\n",
       "      <td>NaN</td>\n",
       "      <td>NaN</td>\n",
       "      <td>2.99</td>\n",
       "      <td>0.03</td>\n",
       "      <td>...</td>\n",
       "      <td>NaN</td>\n",
       "      <td>0.0</td>\n",
       "      <td>0.0</td>\n",
       "      <td>0.0</td>\n",
       "      <td>0.33</td>\n",
       "      <td>1.23</td>\n",
       "      <td>2.02</td>\n",
       "      <td>256.60</td>\n",
       "      <td>NaN</td>\n",
       "      <td>NaN</td>\n",
       "    </tr>\n",
       "    <tr>\n",
       "      <th>2</th>\n",
       "      <td>0</td>\n",
       "      <td>CPT</td>\n",
       "      <td>Zell basin</td>\n",
       "      <td>0.06</td>\n",
       "      <td>4.80</td>\n",
       "      <td>1.0</td>\n",
       "      <td>NaN</td>\n",
       "      <td>NaN</td>\n",
       "      <td>4.76</td>\n",
       "      <td>0.06</td>\n",
       "      <td>...</td>\n",
       "      <td>NaN</td>\n",
       "      <td>0.0</td>\n",
       "      <td>0.0</td>\n",
       "      <td>0.0</td>\n",
       "      <td>0.28</td>\n",
       "      <td>1.16</td>\n",
       "      <td>1.80</td>\n",
       "      <td>264.66</td>\n",
       "      <td>NaN</td>\n",
       "      <td>NaN</td>\n",
       "    </tr>\n",
       "    <tr>\n",
       "      <th>3</th>\n",
       "      <td>0</td>\n",
       "      <td>CPT</td>\n",
       "      <td>Zell basin</td>\n",
       "      <td>0.08</td>\n",
       "      <td>6.40</td>\n",
       "      <td>6.0</td>\n",
       "      <td>NaN</td>\n",
       "      <td>NaN</td>\n",
       "      <td>6.12</td>\n",
       "      <td>0.07</td>\n",
       "      <td>...</td>\n",
       "      <td>NaN</td>\n",
       "      <td>0.0</td>\n",
       "      <td>0.0</td>\n",
       "      <td>0.0</td>\n",
       "      <td>0.27</td>\n",
       "      <td>1.12</td>\n",
       "      <td>1.69</td>\n",
       "      <td>275.17</td>\n",
       "      <td>NaN</td>\n",
       "      <td>NaN</td>\n",
       "    </tr>\n",
       "    <tr>\n",
       "      <th>4</th>\n",
       "      <td>0</td>\n",
       "      <td>CPT</td>\n",
       "      <td>Zell basin</td>\n",
       "      <td>0.10</td>\n",
       "      <td>6.90</td>\n",
       "      <td>6.0</td>\n",
       "      <td>NaN</td>\n",
       "      <td>NaN</td>\n",
       "      <td>6.91</td>\n",
       "      <td>0.10</td>\n",
       "      <td>...</td>\n",
       "      <td>NaN</td>\n",
       "      <td>0.0</td>\n",
       "      <td>0.0</td>\n",
       "      <td>0.0</td>\n",
       "      <td>0.27</td>\n",
       "      <td>1.11</td>\n",
       "      <td>1.65</td>\n",
       "      <td>267.92</td>\n",
       "      <td>NaN</td>\n",
       "      <td>NaN</td>\n",
       "    </tr>\n",
       "  </tbody>\n",
       "</table>\n",
       "<p>5 rows × 28 columns</p>\n",
       "</div>"
      ],
      "text/plain": [
       "   ID test_type basin_valley  Depth (m)  qc (MPa)  fs (kPa)  u2 (kPa)  \\\n",
       "0   0       CPT   Zell basin       0.02      1.15       1.0       NaN   \n",
       "1   0       CPT   Zell basin       0.04      2.85       1.0       NaN   \n",
       "2   0       CPT   Zell basin       0.06      4.80       1.0       NaN   \n",
       "3   0       CPT   Zell basin       0.08      6.40       6.0       NaN   \n",
       "4   0       CPT   Zell basin       0.10      6.90       6.0       NaN   \n",
       "\n",
       "   Vs (m/s)  qt (MPa)  Rf (%)  ...  U2 (-)  SBT (-)  SBTn (-)  Mod. SBTn (-)  \\\n",
       "0       NaN      1.77    0.06  ...     NaN      0.0       0.0            0.0   \n",
       "1       NaN      2.99    0.03  ...     NaN      0.0       0.0            0.0   \n",
       "2       NaN      4.76    0.06  ...     NaN      0.0       0.0            0.0   \n",
       "3       NaN      6.12    0.07  ...     NaN      0.0       0.0            0.0   \n",
       "4       NaN      6.91    0.10  ...     NaN      0.0       0.0            0.0   \n",
       "\n",
       "      n  Ic (-)  Ic SBT (-)  Ib (-)  EN_ISO_14688_classes  \\\n",
       "0 -0.12    2.56        2.23   25.61                   NaN   \n",
       "1  0.33    1.23        2.02  256.60                   NaN   \n",
       "2  0.28    1.16        1.80  264.66                   NaN   \n",
       "3  0.27    1.12        1.69  275.17                   NaN   \n",
       "4  0.27    1.11        1.65  267.92                   NaN   \n",
       "\n",
       "   Oberhollenzer_classes  \n",
       "0                    NaN  \n",
       "1                    NaN  \n",
       "2                    NaN  \n",
       "3                    NaN  \n",
       "4                    NaN  \n",
       "\n",
       "[5 rows x 28 columns]"
      ]
     },
     "execution_count": 7,
     "metadata": {},
     "output_type": "execute_result"
    }
   ],
   "source": [
    "import pandas as pd\n",
    "FILEPATH = '../data/raw/mmc1.csv'\n",
    "df = pd.read_csv(FILEPATH)\n",
    "df.head()"
   ]
  },
  {
   "cell_type": "code",
   "execution_count": 8,
   "metadata": {},
   "outputs": [
    {
     "data": {
      "text/plain": [
       "Index(['ID', 'test_type', 'basin_valley', 'Depth (m)', 'qc (MPa)', 'fs (kPa)',\n",
       "       'u2 (kPa)', 'Vs (m/s)', 'qt (MPa)', 'Rf (%)', 'γ (kN/m³)', 'σ,v (kPa)',\n",
       "       'u0 (kPa)', 'σ',v (kPa)', 'Qt (-)', 'Qtn (-)', 'Fr (%)', 'Bq (-)',\n",
       "       'U2 (-)', 'SBT (-)', 'SBTn (-)', 'Mod. SBTn (-)', 'n', 'Ic (-)',\n",
       "       'Ic SBT (-)', 'Ib (-)', 'EN_ISO_14688_classes',\n",
       "       'Oberhollenzer_classes'],\n",
       "      dtype='object')"
      ]
     },
     "execution_count": 8,
     "metadata": {},
     "output_type": "execute_result"
    }
   ],
   "source": [
    "df.columns"
   ]
  },
  {
   "cell_type": "code",
   "execution_count": 9,
   "metadata": {},
   "outputs": [
    {
     "name": "stdout",
     "output_type": "stream",
     "text": [
      "<class 'pandas.core.frame.DataFrame'>\n",
      "RangeIndex: 2516979 entries, 0 to 2516978\n",
      "Data columns (total 28 columns):\n",
      " #   Column                 Dtype  \n",
      "---  ------                 -----  \n",
      " 0   ID                     int64  \n",
      " 1   test_type              object \n",
      " 2   basin_valley           object \n",
      " 3   Depth (m)              float64\n",
      " 4   qc (MPa)               float64\n",
      " 5   fs (kPa)               float64\n",
      " 6   u2 (kPa)               float64\n",
      " 7   Vs (m/s)               float64\n",
      " 8   qt (MPa)               float64\n",
      " 9   Rf (%)                 float64\n",
      " 10  γ (kN/m³)              float64\n",
      " 11  σ,v (kPa)              float64\n",
      " 12  u0 (kPa)               float64\n",
      " 13  σ',v (kPa)             float64\n",
      " 14  Qt (-)                 float64\n",
      " 15  Qtn (-)                float64\n",
      " 16  Fr (%)                 float64\n",
      " 17  Bq (-)                 float64\n",
      " 18  U2 (-)                 float64\n",
      " 19  SBT (-)                float64\n",
      " 20  SBTn (-)               float64\n",
      " 21  Mod. SBTn (-)          float64\n",
      " 22  n                      float64\n",
      " 23  Ic (-)                 float64\n",
      " 24  Ic SBT (-)             float64\n",
      " 25  Ib (-)                 float64\n",
      " 26  EN_ISO_14688_classes   object \n",
      " 27  Oberhollenzer_classes  float64\n",
      "dtypes: float64(24), int64(1), object(3)\n",
      "memory usage: 537.7+ MB\n"
     ]
    }
   ],
   "source": [
    "df.info()"
   ]
  },
  {
   "cell_type": "markdown",
   "metadata": {},
   "source": [
    "Features defined by Rauter and Tschuchnigg (2019). Note: several features are derived feature engineered features.\n",
    "- Derived from other features: 'Rf (%)', 'Qt (-)', 'Qtn (-)', 'Fr (%)'\n",
    "- Calculated: 'γ (kN/m³)', 'σ,v (kPa)',\n",
    "       'u0 (kPa)', 'σ',v (kPa)', 'Depth (m)'\n",
    "- Measured: 'qc (MPa)', 'fs (kPa)'"
   ]
  },
  {
   "cell_type": "code",
   "execution_count": 10,
   "metadata": {},
   "outputs": [
    {
     "data": {
      "text/html": [
       "<div>\n",
       "<style scoped>\n",
       "    .dataframe tbody tr th:only-of-type {\n",
       "        vertical-align: middle;\n",
       "    }\n",
       "\n",
       "    .dataframe tbody tr th {\n",
       "        vertical-align: top;\n",
       "    }\n",
       "\n",
       "    .dataframe thead th {\n",
       "        text-align: right;\n",
       "    }\n",
       "</style>\n",
       "<table border=\"1\" class=\"dataframe\">\n",
       "  <thead>\n",
       "    <tr style=\"text-align: right;\">\n",
       "      <th></th>\n",
       "      <th>ID</th>\n",
       "      <th>test_type</th>\n",
       "      <th>basin_valley</th>\n",
       "      <th>Depth (m)</th>\n",
       "      <th>qc (MPa)</th>\n",
       "      <th>fs (kPa)</th>\n",
       "      <th>Rf (%)</th>\n",
       "      <th>σ,v (kPa)</th>\n",
       "      <th>u0 (kPa)</th>\n",
       "      <th>σ',v (kPa)</th>\n",
       "      <th>Qtn (-)</th>\n",
       "      <th>Fr (%)</th>\n",
       "      <th>Oberhollenzer_classes</th>\n",
       "    </tr>\n",
       "  </thead>\n",
       "  <tbody>\n",
       "    <tr>\n",
       "      <th>0</th>\n",
       "      <td>0</td>\n",
       "      <td>CPT</td>\n",
       "      <td>Zell basin</td>\n",
       "      <td>0.02</td>\n",
       "      <td>1.15</td>\n",
       "      <td>1.0</td>\n",
       "      <td>0.06</td>\n",
       "      <td>0.38</td>\n",
       "      <td>0.20</td>\n",
       "      <td>0.18</td>\n",
       "      <td>8.04</td>\n",
       "      <td>0.06</td>\n",
       "      <td>NaN</td>\n",
       "    </tr>\n",
       "    <tr>\n",
       "      <th>1</th>\n",
       "      <td>0</td>\n",
       "      <td>CPT</td>\n",
       "      <td>Zell basin</td>\n",
       "      <td>0.04</td>\n",
       "      <td>2.85</td>\n",
       "      <td>1.0</td>\n",
       "      <td>0.03</td>\n",
       "      <td>0.76</td>\n",
       "      <td>0.39</td>\n",
       "      <td>0.37</td>\n",
       "      <td>185.53</td>\n",
       "      <td>0.03</td>\n",
       "      <td>NaN</td>\n",
       "    </tr>\n",
       "    <tr>\n",
       "      <th>2</th>\n",
       "      <td>0</td>\n",
       "      <td>CPT</td>\n",
       "      <td>Zell basin</td>\n",
       "      <td>0.06</td>\n",
       "      <td>4.80</td>\n",
       "      <td>1.0</td>\n",
       "      <td>0.06</td>\n",
       "      <td>1.14</td>\n",
       "      <td>0.59</td>\n",
       "      <td>0.55</td>\n",
       "      <td>205.79</td>\n",
       "      <td>0.06</td>\n",
       "      <td>NaN</td>\n",
       "    </tr>\n",
       "    <tr>\n",
       "      <th>3</th>\n",
       "      <td>0</td>\n",
       "      <td>CPT</td>\n",
       "      <td>Zell basin</td>\n",
       "      <td>0.08</td>\n",
       "      <td>6.40</td>\n",
       "      <td>6.0</td>\n",
       "      <td>0.07</td>\n",
       "      <td>1.52</td>\n",
       "      <td>0.78</td>\n",
       "      <td>0.74</td>\n",
       "      <td>226.79</td>\n",
       "      <td>0.07</td>\n",
       "      <td>NaN</td>\n",
       "    </tr>\n",
       "    <tr>\n",
       "      <th>4</th>\n",
       "      <td>0</td>\n",
       "      <td>CPT</td>\n",
       "      <td>Zell basin</td>\n",
       "      <td>0.10</td>\n",
       "      <td>6.90</td>\n",
       "      <td>6.0</td>\n",
       "      <td>0.10</td>\n",
       "      <td>1.90</td>\n",
       "      <td>0.98</td>\n",
       "      <td>0.92</td>\n",
       "      <td>239.52</td>\n",
       "      <td>0.10</td>\n",
       "      <td>NaN</td>\n",
       "    </tr>\n",
       "  </tbody>\n",
       "</table>\n",
       "</div>"
      ],
      "text/plain": [
       "   ID test_type basin_valley  Depth (m)  qc (MPa)  fs (kPa)  Rf (%)  \\\n",
       "0   0       CPT   Zell basin       0.02      1.15       1.0    0.06   \n",
       "1   0       CPT   Zell basin       0.04      2.85       1.0    0.03   \n",
       "2   0       CPT   Zell basin       0.06      4.80       1.0    0.06   \n",
       "3   0       CPT   Zell basin       0.08      6.40       6.0    0.07   \n",
       "4   0       CPT   Zell basin       0.10      6.90       6.0    0.10   \n",
       "\n",
       "   σ,v (kPa)  u0 (kPa)  σ',v (kPa)  Qtn (-)  Fr (%)  Oberhollenzer_classes  \n",
       "0       0.38      0.20        0.18     8.04    0.06                    NaN  \n",
       "1       0.76      0.39        0.37   185.53    0.03                    NaN  \n",
       "2       1.14      0.59        0.55   205.79    0.06                    NaN  \n",
       "3       1.52      0.78        0.74   226.79    0.07                    NaN  \n",
       "4       1.90      0.98        0.92   239.52    0.10                    NaN  "
      ]
     },
     "execution_count": 10,
     "metadata": {},
     "output_type": "execute_result"
    }
   ],
   "source": [
    "FEATURES = ['Depth (m)', 'qc (MPa)', 'fs (kPa)','Rf (%)', 'σ,v (kPa)', 'u0 (kPa)',\"σ',v (kPa)\", 'Qtn (-)', 'Fr (%)']\n",
    "SITE_INFO = ['ID', 'test_type', 'basin_valley']\n",
    "LABELS_O = ['Oberhollenzer_classes']\n",
    "df = df.loc[:,SITE_INFO + FEATURES + LABELS_O]\n",
    "df.head()"
   ]
  },
  {
   "cell_type": "code",
   "execution_count": 11,
   "metadata": {},
   "outputs": [
    {
     "data": {
      "text/plain": [
       "ID                             0\n",
       "test_type                      0\n",
       "basin_valley                   0\n",
       "Depth (m)                      0\n",
       "qc (MPa)                     817\n",
       "fs (kPa)                    1533\n",
       "Rf (%)                      1316\n",
       "σ,v (kPa)                    127\n",
       "u0 (kPa)                     127\n",
       "σ',v (kPa)                   127\n",
       "Qtn (-)                      214\n",
       "Fr (%)                      2704\n",
       "Oberhollenzer_classes    1486510\n",
       "dtype: int64"
      ]
     },
     "execution_count": 11,
     "metadata": {},
     "output_type": "execute_result"
    }
   ],
   "source": [
    "df.isnull().sum()"
   ]
  },
  {
   "cell_type": "code",
   "execution_count": 12,
   "metadata": {},
   "outputs": [
    {
     "data": {
      "text/html": [
       "<div>\n",
       "<style scoped>\n",
       "    .dataframe tbody tr th:only-of-type {\n",
       "        vertical-align: middle;\n",
       "    }\n",
       "\n",
       "    .dataframe tbody tr th {\n",
       "        vertical-align: top;\n",
       "    }\n",
       "\n",
       "    .dataframe thead th {\n",
       "        text-align: right;\n",
       "    }\n",
       "</style>\n",
       "<table border=\"1\" class=\"dataframe\">\n",
       "  <thead>\n",
       "    <tr style=\"text-align: right;\">\n",
       "      <th></th>\n",
       "      <th>ID</th>\n",
       "      <th>test_type</th>\n",
       "      <th>basin_valley</th>\n",
       "      <th>Depth (m)</th>\n",
       "      <th>qc (MPa)</th>\n",
       "      <th>fs (kPa)</th>\n",
       "      <th>Rf (%)</th>\n",
       "      <th>σ,v (kPa)</th>\n",
       "      <th>u0 (kPa)</th>\n",
       "      <th>σ',v (kPa)</th>\n",
       "      <th>Qtn (-)</th>\n",
       "      <th>Fr (%)</th>\n",
       "      <th>Oberhollenzer_classes</th>\n",
       "    </tr>\n",
       "  </thead>\n",
       "  <tbody>\n",
       "    <tr>\n",
       "      <th>1486510</th>\n",
       "      <td>849</td>\n",
       "      <td>CPT</td>\n",
       "      <td>Zell basin</td>\n",
       "      <td>0.01</td>\n",
       "      <td>0.0</td>\n",
       "      <td>0.0</td>\n",
       "      <td>0.0</td>\n",
       "      <td>0.19</td>\n",
       "      <td>0.10</td>\n",
       "      <td>0.09</td>\n",
       "      <td>-27.09</td>\n",
       "      <td>0.0</td>\n",
       "      <td>4.0</td>\n",
       "    </tr>\n",
       "    <tr>\n",
       "      <th>1486511</th>\n",
       "      <td>849</td>\n",
       "      <td>CPT</td>\n",
       "      <td>Zell basin</td>\n",
       "      <td>0.02</td>\n",
       "      <td>0.0</td>\n",
       "      <td>0.0</td>\n",
       "      <td>0.0</td>\n",
       "      <td>0.38</td>\n",
       "      <td>0.20</td>\n",
       "      <td>0.18</td>\n",
       "      <td>-14.58</td>\n",
       "      <td>0.0</td>\n",
       "      <td>4.0</td>\n",
       "    </tr>\n",
       "    <tr>\n",
       "      <th>1486512</th>\n",
       "      <td>849</td>\n",
       "      <td>CPT</td>\n",
       "      <td>Zell basin</td>\n",
       "      <td>0.03</td>\n",
       "      <td>0.0</td>\n",
       "      <td>0.0</td>\n",
       "      <td>0.0</td>\n",
       "      <td>0.57</td>\n",
       "      <td>0.29</td>\n",
       "      <td>0.28</td>\n",
       "      <td>-10.41</td>\n",
       "      <td>0.0</td>\n",
       "      <td>4.0</td>\n",
       "    </tr>\n",
       "    <tr>\n",
       "      <th>1486513</th>\n",
       "      <td>849</td>\n",
       "      <td>CPT</td>\n",
       "      <td>Zell basin</td>\n",
       "      <td>0.04</td>\n",
       "      <td>0.0</td>\n",
       "      <td>0.0</td>\n",
       "      <td>0.0</td>\n",
       "      <td>0.76</td>\n",
       "      <td>0.39</td>\n",
       "      <td>0.37</td>\n",
       "      <td>-8.32</td>\n",
       "      <td>0.0</td>\n",
       "      <td>4.0</td>\n",
       "    </tr>\n",
       "    <tr>\n",
       "      <th>1486514</th>\n",
       "      <td>849</td>\n",
       "      <td>CPT</td>\n",
       "      <td>Zell basin</td>\n",
       "      <td>0.05</td>\n",
       "      <td>0.0</td>\n",
       "      <td>0.0</td>\n",
       "      <td>0.0</td>\n",
       "      <td>0.95</td>\n",
       "      <td>0.49</td>\n",
       "      <td>0.46</td>\n",
       "      <td>-7.07</td>\n",
       "      <td>0.0</td>\n",
       "      <td>4.0</td>\n",
       "    </tr>\n",
       "  </tbody>\n",
       "</table>\n",
       "</div>"
      ],
      "text/plain": [
       "          ID test_type basin_valley  Depth (m)  qc (MPa)  fs (kPa)  Rf (%)  \\\n",
       "1486510  849       CPT   Zell basin       0.01       0.0       0.0     0.0   \n",
       "1486511  849       CPT   Zell basin       0.02       0.0       0.0     0.0   \n",
       "1486512  849       CPT   Zell basin       0.03       0.0       0.0     0.0   \n",
       "1486513  849       CPT   Zell basin       0.04       0.0       0.0     0.0   \n",
       "1486514  849       CPT   Zell basin       0.05       0.0       0.0     0.0   \n",
       "\n",
       "         σ,v (kPa)  u0 (kPa)  σ',v (kPa)  Qtn (-)  Fr (%)  \\\n",
       "1486510       0.19      0.10        0.09   -27.09     0.0   \n",
       "1486511       0.38      0.20        0.18   -14.58     0.0   \n",
       "1486512       0.57      0.29        0.28   -10.41     0.0   \n",
       "1486513       0.76      0.39        0.37    -8.32     0.0   \n",
       "1486514       0.95      0.49        0.46    -7.07     0.0   \n",
       "\n",
       "         Oberhollenzer_classes  \n",
       "1486510                    4.0  \n",
       "1486511                    4.0  \n",
       "1486512                    4.0  \n",
       "1486513                    4.0  \n",
       "1486514                    4.0  "
      ]
     },
     "execution_count": 12,
     "metadata": {},
     "output_type": "execute_result"
    }
   ],
   "source": [
    "df = df.dropna()\n",
    "df.head()"
   ]
  },
  {
   "cell_type": "code",
   "execution_count": 13,
   "metadata": {},
   "outputs": [
    {
     "data": {
      "text/plain": [
       "ID                       0\n",
       "test_type                0\n",
       "basin_valley             0\n",
       "Depth (m)                0\n",
       "qc (MPa)                 0\n",
       "fs (kPa)                 0\n",
       "Rf (%)                   0\n",
       "σ,v (kPa)                0\n",
       "u0 (kPa)                 0\n",
       "σ',v (kPa)               0\n",
       "Qtn (-)                  0\n",
       "Fr (%)                   0\n",
       "Oberhollenzer_classes    0\n",
       "dtype: int64"
      ]
     },
     "execution_count": 13,
     "metadata": {},
     "output_type": "execute_result"
    }
   ],
   "source": [
    "df.isnull().sum()"
   ]
  },
  {
   "cell_type": "code",
   "execution_count": 14,
   "metadata": {},
   "outputs": [
    {
     "data": {
      "text/plain": [
       "(1028487, 13)"
      ]
     },
     "execution_count": 14,
     "metadata": {},
     "output_type": "execute_result"
    }
   ],
   "source": [
    "df.shape"
   ]
  },
  {
   "cell_type": "markdown",
   "metadata": {},
   "source": [
    "The balance of the target label"
   ]
  },
  {
   "cell_type": "code",
   "execution_count": 15,
   "metadata": {},
   "outputs": [
    {
     "data": {
      "text/plain": [
       "Oberhollenzer_classes\n",
       "5.0    208247\n",
       "2.0    192904\n",
       "6.0    180407\n",
       "7.0    163684\n",
       "1.0     99211\n",
       "4.0     98749\n",
       "0.0     78436\n",
       "3.0      6849\n",
       "Name: count, dtype: int64"
      ]
     },
     "execution_count": 15,
     "metadata": {},
     "output_type": "execute_result"
    }
   ],
   "source": [
    "df[\"Oberhollenzer_classes\"].value_counts()"
   ]
  },
  {
   "cell_type": "code",
   "execution_count": 16,
   "metadata": {},
   "outputs": [
    {
     "data": {
      "text/plain": [
       "basin_valley\n",
       "Salzburg basin                   512548\n",
       "Zell basin                       284332\n",
       "Flachgau                          89744\n",
       "Upper Salzach valley              39410\n",
       "Saalfelden basin                  28005\n",
       "Lower Salzach valley              19503\n",
       "Gastein valley                    13694\n",
       "Wildschönau region                10871\n",
       "Pinzgau Saalach valley             8209\n",
       "Hallein basin                      7185\n",
       "Enns valley - Radtstadt basin      6160\n",
       "Pinzgau (Hinterthal, Dienten)      3495\n",
       "Eisenstadt-Sopron basin            2544\n",
       "Abtenau basin                      2077\n",
       "Glemm valley                        710\n",
       "Name: count, dtype: int64"
      ]
     },
     "execution_count": 16,
     "metadata": {},
     "output_type": "execute_result"
    }
   ],
   "source": [
    "df[\"basin_valley\"].value_counts()"
   ]
  },
  {
   "cell_type": "code",
   "execution_count": 17,
   "metadata": {},
   "outputs": [
    {
     "data": {
      "text/html": [
       "<div>\n",
       "<style scoped>\n",
       "    .dataframe tbody tr th:only-of-type {\n",
       "        vertical-align: middle;\n",
       "    }\n",
       "\n",
       "    .dataframe tbody tr th {\n",
       "        vertical-align: top;\n",
       "    }\n",
       "\n",
       "    .dataframe thead th {\n",
       "        text-align: right;\n",
       "    }\n",
       "</style>\n",
       "<table border=\"1\" class=\"dataframe\">\n",
       "  <thead>\n",
       "    <tr style=\"text-align: right;\">\n",
       "      <th></th>\n",
       "      <th>Depth (m)</th>\n",
       "      <th>qc (MPa)</th>\n",
       "      <th>fs (kPa)</th>\n",
       "      <th>Rf (%)</th>\n",
       "      <th>σ,v (kPa)</th>\n",
       "      <th>u0 (kPa)</th>\n",
       "      <th>σ',v (kPa)</th>\n",
       "      <th>Qtn (-)</th>\n",
       "      <th>Fr (%)</th>\n",
       "    </tr>\n",
       "  </thead>\n",
       "  <tbody>\n",
       "    <tr>\n",
       "      <th>count</th>\n",
       "      <td>1028487.00</td>\n",
       "      <td>1028487.00</td>\n",
       "      <td>1028487.00</td>\n",
       "      <td>1028487.00</td>\n",
       "      <td>1028487.00</td>\n",
       "      <td>1028487.00</td>\n",
       "      <td>1028487.00</td>\n",
       "      <td>1028487.00</td>\n",
       "      <td>1028487.00</td>\n",
       "    </tr>\n",
       "    <tr>\n",
       "      <th>mean</th>\n",
       "      <td>13.23</td>\n",
       "      <td>5.33</td>\n",
       "      <td>54.61</td>\n",
       "      <td>2.39</td>\n",
       "      <td>251.30</td>\n",
       "      <td>122.64</td>\n",
       "      <td>128.66</td>\n",
       "      <td>62.94</td>\n",
       "      <td>3.56</td>\n",
       "    </tr>\n",
       "    <tr>\n",
       "      <th>std</th>\n",
       "      <td>10.57</td>\n",
       "      <td>8.39</td>\n",
       "      <td>70.30</td>\n",
       "      <td>35.10</td>\n",
       "      <td>200.74</td>\n",
       "      <td>103.14</td>\n",
       "      <td>99.58</td>\n",
       "      <td>118.64</td>\n",
       "      <td>81.37</td>\n",
       "    </tr>\n",
       "    <tr>\n",
       "      <th>min</th>\n",
       "      <td>0.01</td>\n",
       "      <td>-1.37</td>\n",
       "      <td>-99.90</td>\n",
       "      <td>-100.00</td>\n",
       "      <td>0.19</td>\n",
       "      <td>0.00</td>\n",
       "      <td>0.09</td>\n",
       "      <td>-127.57</td>\n",
       "      <td>-100.00</td>\n",
       "    </tr>\n",
       "    <tr>\n",
       "      <th>25%</th>\n",
       "      <td>5.32</td>\n",
       "      <td>0.96</td>\n",
       "      <td>16.20</td>\n",
       "      <td>0.69</td>\n",
       "      <td>101.08</td>\n",
       "      <td>45.71</td>\n",
       "      <td>54.13</td>\n",
       "      <td>5.19</td>\n",
       "      <td>0.75</td>\n",
       "    </tr>\n",
       "    <tr>\n",
       "      <th>50%</th>\n",
       "      <td>11.06</td>\n",
       "      <td>2.30</td>\n",
       "      <td>32.50</td>\n",
       "      <td>1.37</td>\n",
       "      <td>210.14</td>\n",
       "      <td>101.14</td>\n",
       "      <td>108.90</td>\n",
       "      <td>22.47</td>\n",
       "      <td>1.68</td>\n",
       "    </tr>\n",
       "    <tr>\n",
       "      <th>75%</th>\n",
       "      <td>18.07</td>\n",
       "      <td>5.98</td>\n",
       "      <td>66.00</td>\n",
       "      <td>2.48</td>\n",
       "      <td>343.33</td>\n",
       "      <td>170.11</td>\n",
       "      <td>174.70</td>\n",
       "      <td>60.56</td>\n",
       "      <td>3.34</td>\n",
       "    </tr>\n",
       "    <tr>\n",
       "      <th>max</th>\n",
       "      <td>75.92</td>\n",
       "      <td>101.73</td>\n",
       "      <td>1591.40</td>\n",
       "      <td>22000.00</td>\n",
       "      <td>1442.48</td>\n",
       "      <td>744.78</td>\n",
       "      <td>697.70</td>\n",
       "      <td>1001.00</td>\n",
       "      <td>33166.67</td>\n",
       "    </tr>\n",
       "  </tbody>\n",
       "</table>\n",
       "</div>"
      ],
      "text/plain": [
       "       Depth (m)   qc (MPa)   fs (kPa)     Rf (%)  σ,v (kPa)   u0 (kPa)  \\\n",
       "count 1028487.00 1028487.00 1028487.00 1028487.00 1028487.00 1028487.00   \n",
       "mean       13.23       5.33      54.61       2.39     251.30     122.64   \n",
       "std        10.57       8.39      70.30      35.10     200.74     103.14   \n",
       "min         0.01      -1.37     -99.90    -100.00       0.19       0.00   \n",
       "25%         5.32       0.96      16.20       0.69     101.08      45.71   \n",
       "50%        11.06       2.30      32.50       1.37     210.14     101.14   \n",
       "75%        18.07       5.98      66.00       2.48     343.33     170.11   \n",
       "max        75.92     101.73    1591.40   22000.00    1442.48     744.78   \n",
       "\n",
       "       σ',v (kPa)    Qtn (-)     Fr (%)  \n",
       "count  1028487.00 1028487.00 1028487.00  \n",
       "mean       128.66      62.94       3.56  \n",
       "std         99.58     118.64      81.37  \n",
       "min          0.09    -127.57    -100.00  \n",
       "25%         54.13       5.19       0.75  \n",
       "50%        108.90      22.47       1.68  \n",
       "75%        174.70      60.56       3.34  \n",
       "max        697.70    1001.00   33166.67  "
      ]
     },
     "execution_count": 17,
     "metadata": {},
     "output_type": "execute_result"
    }
   ],
   "source": [
    "# run describe on the numberical features\n",
    "pd.set_option('display.float_format', '{:.2f}'.format)\n",
    "numeric_features = df[FEATURES].select_dtypes(include=[\"number\"]).columns\n",
    "df[numeric_features].describe()\n",
    "# pd.reset_option('display.float_format')"
   ]
  },
  {
   "cell_type": "markdown",
   "metadata": {},
   "source": [
    "## Automated EDA"
   ]
  },
  {
   "cell_type": "markdown",
   "metadata": {},
   "source": [
    "ydata-profiling for automated EDA"
   ]
  },
  {
   "cell_type": "code",
   "execution_count": 18,
   "metadata": {},
   "outputs": [
    {
     "data": {
      "text/html": [
       "<div>\n",
       "<style scoped>\n",
       "    .dataframe tbody tr th:only-of-type {\n",
       "        vertical-align: middle;\n",
       "    }\n",
       "\n",
       "    .dataframe tbody tr th {\n",
       "        vertical-align: top;\n",
       "    }\n",
       "\n",
       "    .dataframe thead th {\n",
       "        text-align: right;\n",
       "    }\n",
       "</style>\n",
       "<table border=\"1\" class=\"dataframe\">\n",
       "  <thead>\n",
       "    <tr style=\"text-align: right;\">\n",
       "      <th></th>\n",
       "      <th>Depth (m)</th>\n",
       "      <th>qc (MPa)</th>\n",
       "      <th>fs (kPa)</th>\n",
       "      <th>Rf (%)</th>\n",
       "      <th>σ,v (kPa)</th>\n",
       "      <th>u0 (kPa)</th>\n",
       "      <th>σ',v (kPa)</th>\n",
       "      <th>Qtn (-)</th>\n",
       "      <th>Fr (%)</th>\n",
       "      <th>Oberhollenzer_classes</th>\n",
       "    </tr>\n",
       "  </thead>\n",
       "  <tbody>\n",
       "    <tr>\n",
       "      <th>1486510</th>\n",
       "      <td>0.01</td>\n",
       "      <td>0.00</td>\n",
       "      <td>0.00</td>\n",
       "      <td>0.00</td>\n",
       "      <td>0.19</td>\n",
       "      <td>0.10</td>\n",
       "      <td>0.09</td>\n",
       "      <td>-27.09</td>\n",
       "      <td>0.00</td>\n",
       "      <td>4.00</td>\n",
       "    </tr>\n",
       "    <tr>\n",
       "      <th>1486511</th>\n",
       "      <td>0.02</td>\n",
       "      <td>0.00</td>\n",
       "      <td>0.00</td>\n",
       "      <td>0.00</td>\n",
       "      <td>0.38</td>\n",
       "      <td>0.20</td>\n",
       "      <td>0.18</td>\n",
       "      <td>-14.58</td>\n",
       "      <td>0.00</td>\n",
       "      <td>4.00</td>\n",
       "    </tr>\n",
       "    <tr>\n",
       "      <th>1486512</th>\n",
       "      <td>0.03</td>\n",
       "      <td>0.00</td>\n",
       "      <td>0.00</td>\n",
       "      <td>0.00</td>\n",
       "      <td>0.57</td>\n",
       "      <td>0.29</td>\n",
       "      <td>0.28</td>\n",
       "      <td>-10.41</td>\n",
       "      <td>0.00</td>\n",
       "      <td>4.00</td>\n",
       "    </tr>\n",
       "    <tr>\n",
       "      <th>1486513</th>\n",
       "      <td>0.04</td>\n",
       "      <td>0.00</td>\n",
       "      <td>0.00</td>\n",
       "      <td>0.00</td>\n",
       "      <td>0.76</td>\n",
       "      <td>0.39</td>\n",
       "      <td>0.37</td>\n",
       "      <td>-8.32</td>\n",
       "      <td>0.00</td>\n",
       "      <td>4.00</td>\n",
       "    </tr>\n",
       "    <tr>\n",
       "      <th>1486514</th>\n",
       "      <td>0.05</td>\n",
       "      <td>0.00</td>\n",
       "      <td>0.00</td>\n",
       "      <td>0.00</td>\n",
       "      <td>0.95</td>\n",
       "      <td>0.49</td>\n",
       "      <td>0.46</td>\n",
       "      <td>-7.07</td>\n",
       "      <td>0.00</td>\n",
       "      <td>4.00</td>\n",
       "    </tr>\n",
       "  </tbody>\n",
       "</table>\n",
       "</div>"
      ],
      "text/plain": [
       "         Depth (m)  qc (MPa)  fs (kPa)  Rf (%)  σ,v (kPa)  u0 (kPa)  \\\n",
       "1486510       0.01      0.00      0.00    0.00       0.19      0.10   \n",
       "1486511       0.02      0.00      0.00    0.00       0.38      0.20   \n",
       "1486512       0.03      0.00      0.00    0.00       0.57      0.29   \n",
       "1486513       0.04      0.00      0.00    0.00       0.76      0.39   \n",
       "1486514       0.05      0.00      0.00    0.00       0.95      0.49   \n",
       "\n",
       "         σ',v (kPa)  Qtn (-)  Fr (%)  Oberhollenzer_classes  \n",
       "1486510        0.09   -27.09    0.00                   4.00  \n",
       "1486511        0.18   -14.58    0.00                   4.00  \n",
       "1486512        0.28   -10.41    0.00                   4.00  \n",
       "1486513        0.37    -8.32    0.00                   4.00  \n",
       "1486514        0.46    -7.07    0.00                   4.00  "
      ]
     },
     "execution_count": 18,
     "metadata": {},
     "output_type": "execute_result"
    }
   ],
   "source": [
    "dfy = df.copy()[FEATURES + LABELS_O]\n",
    "dfy.head()"
   ]
  },
  {
   "cell_type": "code",
   "execution_count": 19,
   "metadata": {},
   "outputs": [
    {
     "name": "stdout",
     "output_type": "stream",
     "text": [
      "<class 'pandas.core.frame.DataFrame'>\n",
      "Index: 1028487 entries, 1486510 to 2516978\n",
      "Data columns (total 10 columns):\n",
      " #   Column                 Non-Null Count    Dtype  \n",
      "---  ------                 --------------    -----  \n",
      " 0   Depth (m)              1028487 non-null  float64\n",
      " 1   qc (MPa)               1028487 non-null  float64\n",
      " 2   fs (kPa)               1028487 non-null  float64\n",
      " 3   Rf (%)                 1028487 non-null  float64\n",
      " 4   σ,v (kPa)              1028487 non-null  float64\n",
      " 5   u0 (kPa)               1028487 non-null  float64\n",
      " 6   σ',v (kPa)             1028487 non-null  float64\n",
      " 7   Qtn (-)                1028487 non-null  float64\n",
      " 8   Fr (%)                 1028487 non-null  float64\n",
      " 9   Oberhollenzer_classes  1028487 non-null  object \n",
      "dtypes: float64(9), object(1)\n",
      "memory usage: 86.3+ MB\n"
     ]
    }
   ],
   "source": [
    "# Change type of labels to strings, so ydata-profiling interprets it as a categorical variable.\n",
    "dfy['Oberhollenzer_classes'] = dfy['Oberhollenzer_classes'].astype(str)\n",
    "dfy.info()"
   ]
  },
  {
   "cell_type": "code",
   "execution_count": 23,
   "metadata": {},
   "outputs": [
    {
     "name": "stdout",
     "output_type": "stream",
     "text": [
      "<class 'pandas.core.frame.DataFrame'>\n",
      "Index: 1028487 entries, 1486510 to 2516978\n",
      "Data columns (total 10 columns):\n",
      " #   Column                 Non-Null Count    Dtype  \n",
      "---  ------                 --------------    -----  \n",
      " 0   Depth (m)              1028487 non-null  float64\n",
      " 1   qc (MPa)               1028487 non-null  float64\n",
      " 2   fs (kPa)               1028487 non-null  float64\n",
      " 3   Rf (%)                 1028487 non-null  float64\n",
      " 4   σ,v (kPa)              1028487 non-null  float64\n",
      " 5   u0 (kPa)               1028487 non-null  float64\n",
      " 6   σ',v (kPa)             1028487 non-null  float64\n",
      " 7   Qtn (-)                1028487 non-null  float64\n",
      " 8   Fr (%)                 1028487 non-null  float64\n",
      " 9   Oberhollenzer_classes  1028487 non-null  object \n",
      "dtypes: float64(9), object(1)\n",
      "memory usage: 118.6+ MB\n"
     ]
    }
   ],
   "source": [
    "dfy.info()"
   ]
  },
  {
   "cell_type": "code",
   "execution_count": 22,
   "metadata": {},
   "outputs": [
    {
     "name": "stderr",
     "output_type": "stream",
     "text": [
      "c:\\Users\\Zakieh\\AppData\\Local\\pypoetry\\Cache\\virtualenvs\\cpt-to-soiltype-SlwqZ-ZC-py3.12\\Lib\\site-packages\\tqdm\\auto.py:21: TqdmWarning: IProgress not found. Please update jupyter and ipywidgets. See https://ipywidgets.readthedocs.io/en/stable/user_install.html\n",
      "  from .autonotebook import tqdm as notebook_tqdm\n",
      "Summarize dataset: 100%|██████████| 100/100 [00:31<00:00,  3.18it/s, Completed]                           \n",
      "Generate report structure: 100%|██████████| 1/1 [00:02<00:00,  2.56s/it]\n",
      "Render HTML: 100%|██████████| 1/1 [00:01<00:00,  1.72s/it]\n",
      "Export report to file: 100%|██████████| 1/1 [00:00<00:00, 50.58it/s]\n"
     ]
    }
   ],
   "source": [
    "from ydata_profiling import ProfileReport\n",
    "\n",
    "profile = ProfileReport(dfy, title=\"Profiling report\")\n",
    "profile.to_file(\"dataset_profiling_cpt.html\")"
   ]
  },
  {
   "cell_type": "markdown",
   "metadata": {},
   "source": [
    "What do you need to check in the dataset?\n",
    "- What distributions do the features have?\n",
    "- Are there any missing values?\n",
    "- Are there any duplicates?\n",
    "- Are there any outliers? Be cautious with this one, as outliers can be valid data points.\n",
    "- Are there any relationships between the features? Some features might be removed if they are highly correlated.\n",
    "- Are there any relationships between the features and the target variable? Only in regression.\n",
    "- Are there any relationships between the features and the target variable that are not linear? Only in regression.\n",
    "- Are the labels balanced?\n"
   ]
  },
  {
   "cell_type": "markdown",
   "metadata": {},
   "source": [
    "Trends in the data\n",
    "- Not normally distributed\n",
    "- Duplicate values\n",
    "- Correlated features"
   ]
  },
  {
   "cell_type": "markdown",
   "metadata": {},
   "source": [
    "## Preprocessing"
   ]
  },
  {
   "cell_type": "code",
   "execution_count": null,
   "metadata": {},
   "outputs": [
    {
     "data": {
      "text/plain": [
       "(1028487, 13)"
      ]
     },
     "execution_count": 8,
     "metadata": {},
     "output_type": "execute_result"
    }
   ],
   "source": [
    "df.shape"
   ]
  },
  {
   "cell_type": "markdown",
   "metadata": {},
   "source": [
    "Duplicate values"
   ]
  },
  {
   "cell_type": "code",
   "execution_count": null,
   "metadata": {},
   "outputs": [
    {
     "data": {
      "text/plain": [
       "(1016728, 13)"
      ]
     },
     "execution_count": 9,
     "metadata": {},
     "output_type": "execute_result"
    }
   ],
   "source": [
    "df = df.drop_duplicates(subset=FEATURES)\n",
    "df.shape"
   ]
  },
  {
   "cell_type": "markdown",
   "metadata": {},
   "source": [
    "### Outliers"
   ]
  },
  {
   "cell_type": "markdown",
   "metadata": {},
   "source": [
    "Hardcoded values (values that are not possible in the real world) are removed."
   ]
  },
  {
   "cell_type": "code",
   "execution_count": null,
   "metadata": {},
   "outputs": [
    {
     "data": {
      "text/plain": [
       "(920545, 13)"
      ]
     },
     "execution_count": 38,
     "metadata": {},
     "output_type": "execute_result"
    }
   ],
   "source": [
    "# hardcoded\n",
    "df = df[df['qc (MPa)'] > 0]\n",
    "df = df[df['u0 (kPa)'] > 0]\n",
    "df = df[df['Qtn (-)'] > 0]\n",
    "df = df[(df['fs (kPa)'] < 1200) & (df['fs (kPa)'] > 0)]\n",
    "df = df[(df['Rf (%)'] < 10) & (df['Rf (%)'] > 0)]\n",
    "df = df[(df['Fr (%)'] < 10) & (df['Rf (%)'] > 0)]\n",
    "# skip samples with label 3.0\n",
    "df = df[df['Oberhollenzer_classes'] != 3.0] # due to low sample size\n",
    "df.shape"
   ]
  },
  {
   "cell_type": "markdown",
   "metadata": {},
   "source": [
    "Univariate outlier detection - we exemplify for one feature"
   ]
  },
  {
   "cell_type": "code",
   "execution_count": null,
   "metadata": {},
   "outputs": [
    {
     "data": {
      "text/plain": [
       "<Axes: >"
      ]
     },
     "execution_count": 10,
     "metadata": {},
     "output_type": "execute_result"
    },
    {
     "data": {
      "image/png": "[encoded data removed]",
      "text/plain": [
       "<Figure size 640x480 with 1 Axes>"
      ]
     },
     "metadata": {},
     "output_type": "display_data"
    }
   ],
   "source": [
    "df[\"Qtn (-)\"].hist(bins=100)"
   ]
  },
  {
   "cell_type": "code",
   "execution_count": null,
   "metadata": {},
   "outputs": [],
   "source": [
    "# univariate\n",
    "from pyod.models.mad import MAD\n",
    "\n",
    "threshold = 5.0  # Typical value, can be adjusted for sensitivity\n",
    "mad = MAD(threshold=threshold)\n",
    "\n",
    "# Fit the model on the column\n",
    "mad.fit(df[['Qtn (-)']])\n",
    "\n",
    "# Predict outliers (1 for outlier, 0 for inlier)\n",
    "outliers = mad.predict(df[['Qtn (-)']])\n",
    "\n",
    "# Filter the DataFrame to exclude outliers\n",
    "df_no_outliers = df[outliers == 0]"
   ]
  },
  {
   "cell_type": "code",
   "execution_count": null,
   "metadata": {},
   "outputs": [
    {
     "data": {
      "text/plain": [
       "np.int64(81971)"
      ]
     },
     "execution_count": 12,
     "metadata": {},
     "output_type": "execute_result"
    }
   ],
   "source": [
    "sum(outliers)"
   ]
  },
  {
   "cell_type": "code",
   "execution_count": null,
   "metadata": {},
   "outputs": [
    {
     "data": {
      "text/plain": [
       "<Axes: >"
      ]
     },
     "execution_count": 13,
     "metadata": {},
     "output_type": "execute_result"
    },
    {
     "data": {
      "image/png": "[encoded data removed]",
      "text/plain": [
       "<Figure size 640x480 with 1 Axes>"
      ]
     },
     "metadata": {},
     "output_type": "display_data"
    }
   ],
   "source": [
    "df_no_outliers[\"Qtn (-)\"].hist(bins=100)"
   ]
  },
  {
   "cell_type": "markdown",
   "metadata": {},
   "source": [
    "Multivariate outlier detection"
   ]
  },
  {
   "cell_type": "code",
   "execution_count": null,
   "metadata": {},
   "outputs": [
    {
     "name": "stdout",
     "output_type": "stream",
     "text": [
      "<class 'pandas.core.frame.DataFrame'>\n",
      "Index: 923502 entries, 1486548 to 2516970\n",
      "Data columns (total 9 columns):\n",
      " #   Column      Non-Null Count   Dtype  \n",
      "---  ------      --------------   -----  \n",
      " 0   Depth (m)   923502 non-null  float64\n",
      " 1   qc (MPa)    923502 non-null  float64\n",
      " 2   fs (kPa)    923502 non-null  float64\n",
      " 3   Rf (%)      923502 non-null  float64\n",
      " 4   σ,v (kPa)   923502 non-null  float64\n",
      " 5   u0 (kPa)    923502 non-null  float64\n",
      " 6   σ',v (kPa)  923502 non-null  float64\n",
      " 7   Qtn (-)     923502 non-null  float64\n",
      " 8   Fr (%)      923502 non-null  float64\n",
      "dtypes: float64(9)\n",
      "memory usage: 70.5 MB\n"
     ]
    }
   ],
   "source": [
    "df[FEATURES].info()"
   ]
  },
  {
   "cell_type": "code",
   "execution_count": null,
   "metadata": {},
   "outputs": [
    {
     "name": "stderr",
     "output_type": "stream",
     "text": [
      "c:\\Users\\TFH\\AppData\\Local\\pypoetry\\Cache\\virtualenvs\\ml-course-intro-2024as-sxBbhF8U-py3.11\\Lib\\site-packages\\sklearn\\base.py:486: UserWarning: X has feature names, but IsolationForest was fitted without feature names\n",
      "  warnings.warn(\n"
     ]
    },
    {
     "name": "stdout",
     "output_type": "stream",
     "text": [
      "Number of outliers with Isolation Forest: 38\n",
      "Percentage of outliers: 0.0000\n",
      "Outlier samples:\n",
      "            ID test_type    basin_valley  Depth (m)  qc (MPa)  fs (kPa)  \\\n",
      "1749133   972      SCPT  Salzburg basin      74.81     22.39    274.70   \n",
      "1749134   972      SCPT  Salzburg basin      74.82     23.34    273.90   \n",
      "1749135   972      SCPT  Salzburg basin      74.83     23.05    278.20   \n",
      "1749136   972      SCPT  Salzburg basin      74.84     21.07    288.00   \n",
      "1749137   972      SCPT  Salzburg basin      74.85     19.10    296.80   \n",
      "1749138   972      SCPT  Salzburg basin      74.86     18.86    305.60   \n",
      "1749139   972      SCPT  Salzburg basin      74.87     17.04    314.50   \n",
      "1749140   972      SCPT  Salzburg basin      74.88     15.88    314.30   \n",
      "1749141   972      SCPT  Salzburg basin      74.89     13.52    317.40   \n",
      "1749142   972      SCPT  Salzburg basin      74.90     12.23    357.20   \n",
      "1749143   972      SCPT  Salzburg basin      74.91     10.28    369.90   \n",
      "1749144   972      SCPT  Salzburg basin      74.92     10.13    383.70   \n",
      "1749145   972      SCPT  Salzburg basin      74.93     10.33    389.30   \n",
      "1749146   972      SCPT  Salzburg basin      74.94     10.53    394.80   \n",
      "1749147   972      SCPT  Salzburg basin      74.95     13.75    395.10   \n",
      "1749148   972      SCPT  Salzburg basin      74.96     15.53    395.40   \n",
      "1749149   972      SCPT  Salzburg basin      74.97     19.37    410.70   \n",
      "1749150   972      SCPT  Salzburg basin      74.98     21.35    414.60   \n",
      "1749151   972      SCPT  Salzburg basin      74.99     23.61    410.50   \n",
      "1749152   972      SCPT  Salzburg basin      75.00     24.01    406.40   \n",
      "1749153   972      SCPT  Salzburg basin      75.01     24.18    394.30   \n",
      "1749154   972      SCPT  Salzburg basin      75.02     22.17    382.10   \n",
      "1749155   972      SCPT  Salzburg basin      75.03     21.50    357.20   \n",
      "1749156   972      SCPT  Salzburg basin      75.04     20.02    339.40   \n",
      "1749157   972      SCPT  Salzburg basin      75.05     19.54    321.70   \n",
      "1749158   972      SCPT  Salzburg basin      75.06     19.06    314.80   \n",
      "1749159   972      SCPT  Salzburg basin      75.07     17.16    310.80   \n",
      "2222975  1210      SCPT  Salzburg basin      63.52      4.24    214.10   \n",
      "2222976  1210      SCPT  Salzburg basin      63.52      3.95    215.40   \n",
      "2222977  1210      SCPT  Salzburg basin      63.53      3.46    214.70   \n",
      "2223422  1210      SCPT  Salzburg basin      67.99      8.72    303.10   \n",
      "2223424  1210      SCPT  Salzburg basin      68.01      9.49    292.30   \n",
      "2223425  1210      SCPT  Salzburg basin      68.02      9.59    291.80   \n",
      "2223427  1210      SCPT  Salzburg basin      68.04      8.34    291.40   \n",
      "2223428  1210      SCPT  Salzburg basin      68.05      7.66    289.80   \n",
      "2223430  1210      SCPT  Salzburg basin      68.07      5.04    248.30   \n",
      "2223431  1210      SCPT  Salzburg basin      68.08      4.41    230.70   \n",
      "2223432  1210      SCPT  Salzburg basin      68.09      3.87    216.00   \n",
      "\n",
      "         Rf (%)  σ,v (kPa)  u0 (kPa)  σ',v (kPa)  Qtn (-)  Fr (%)  \\\n",
      "1749133    1.23    1421.39    733.89      687.50    30.50    1.31   \n",
      "1749134    1.17    1421.58    733.98      687.60    31.87    1.25   \n",
      "1749135    1.21    1421.77    734.08      687.69    31.45    1.29   \n",
      "1749136    1.37    1421.96    734.18      687.78    28.57    1.47   \n",
      "1749137    1.55    1422.15    734.28      687.87    25.70    1.68   \n",
      "1749138    1.62    1422.34    734.38      687.96    25.34    1.75   \n",
      "1749139    1.85    1422.53    734.47      688.06    22.70    2.01   \n",
      "1749140    1.98    1422.72    734.57      688.15    21.00    2.17   \n",
      "1749141    2.35    1422.91    734.67      688.24    17.58    2.62   \n",
      "1749142    2.92    1423.10    734.77      688.33    15.70    3.31   \n",
      "1749143    3.60    1423.29    734.87      688.42    12.87    4.18   \n",
      "1749144    3.79    1423.48    734.97      688.51    12.64    4.41   \n",
      "1749145    3.77    1423.67    735.06      688.61    12.93    4.37   \n",
      "1749146    3.75    1423.86    735.16      688.70    13.22    4.34   \n",
      "1749147    2.87    1424.05    735.26      688.79    17.90    3.20   \n",
      "1749148    2.55    1424.24    735.36      688.88    20.47    2.80   \n",
      "1749149    2.12    1424.43    735.46      688.97    26.05    2.29   \n",
      "1749150    1.94    1424.62    735.55      689.07    28.91    2.08   \n",
      "1749151    1.74    1424.81    735.65      689.16    32.20    1.85   \n",
      "1749152    1.69    1425.00    735.75      689.25    32.76    1.80   \n",
      "1749153    1.63    1425.19    735.85      689.34    33.01    1.73   \n",
      "1749154    1.72    1425.38    735.95      689.43    30.09    1.84   \n",
      "1749155    1.66    1425.57    736.04      689.53    29.11    1.78   \n",
      "1749156    1.70    1425.76    736.14      689.62    26.97    1.83   \n",
      "1749157    1.65    1425.95    736.24      689.71    26.26    1.78   \n",
      "1749158    1.65    1426.14    736.34      689.80    25.57    1.78   \n",
      "1749159    1.81    1426.33    736.44      689.89    22.80    1.98   \n",
      "2222975    5.04    1206.88    623.13      583.75     5.20    7.05   \n",
      "2222976    5.46    1206.88    623.13      583.75     4.69    7.86   \n",
      "2222977    6.21    1207.07    623.23      583.84     3.85    9.54   \n",
      "2223422    3.48    1291.81    666.98      624.83    11.88    4.08   \n",
      "2223424    3.08    1292.19    667.18      625.01    13.12    3.56   \n",
      "2223425    3.04    1292.38    667.28      625.10    13.28    3.51   \n",
      "2223427    3.49    1292.76    667.47      625.29    11.28    4.13   \n",
      "2223428    3.79    1292.95    667.57      625.38    10.17    4.55   \n",
      "2223430    4.93    1293.33    667.77      625.56     5.98    6.63   \n",
      "2223431    5.23    1293.52    667.86      625.66     4.98    7.40   \n",
      "2223432    5.58    1293.71    667.96      625.75     4.12    8.39   \n",
      "\n",
      "         Oberhollenzer_classes  \n",
      "1749133                   2.00  \n",
      "1749134                   2.00  \n",
      "1749135                   2.00  \n",
      "1749136                   2.00  \n",
      "1749137                   2.00  \n",
      "1749138                   2.00  \n",
      "1749139                   2.00  \n",
      "1749140                   2.00  \n",
      "1749141                   2.00  \n",
      "1749142                   2.00  \n",
      "1749143                   2.00  \n",
      "1749144                   2.00  \n",
      "1749145                   2.00  \n",
      "1749146                   2.00  \n",
      "1749147                   2.00  \n",
      "1749148                   2.00  \n",
      "1749149                   2.00  \n",
      "1749150                   2.00  \n",
      "1749151                   2.00  \n",
      "1749152                   2.00  \n",
      "1749153                   2.00  \n",
      "1749154                   2.00  \n",
      "1749155                   2.00  \n",
      "1749156                   2.00  \n",
      "1749157                   2.00  \n",
      "1749158                   2.00  \n",
      "1749159                   2.00  \n",
      "2222975                   2.00  \n",
      "2222976                   2.00  \n",
      "2222977                   2.00  \n",
      "2223422                   2.00  \n",
      "2223424                   2.00  \n",
      "2223425                   2.00  \n",
      "2223427                   2.00  \n",
      "2223428                   2.00  \n",
      "2223430                   2.00  \n",
      "2223431                   2.00  \n",
      "2223432                   2.00  \n"
     ]
    }
   ],
   "source": [
    "from pyod.models.iforest import IForest\n",
    "\n",
    "outlier_confidence_threshold = 0.95  # Adjust threshold for your use case\n",
    "\n",
    "# Initialize and fit the Isolation Forest model\n",
    "iforest = IForest(n_estimators=100)\n",
    "iforest.fit(df[FEATURES])\n",
    "\n",
    "# Get the outlier probabilities\n",
    "probs = iforest.predict_proba(df[FEATURES])[:, 1]\n",
    "\n",
    "# Create a mask for outliers based on the confidence threshold\n",
    "is_outlier = probs > outlier_confidence_threshold\n",
    "outliers = df[is_outlier]\n",
    "non_outliers = df[~is_outlier]\n",
    "\n",
    "# Display results\n",
    "num_outliers = len(outliers)\n",
    "print(f\"Number of outliers with Isolation Forest: {num_outliers}\")\n",
    "print(f\"Percentage of outliers: {num_outliers / len(df):.4f}\")\n",
    "print(\"Outlier samples:\\n\", outliers)\n",
    "\n",
    "# Cleaned DataFrame excluding outliers\n",
    "df_cleaned = df[~is_outlier]"
   ]
  },
  {
   "cell_type": "markdown",
   "metadata": {},
   "source": [
    "A classic splitting of the dataset in train and test sets"
   ]
  },
  {
   "cell_type": "code",
   "execution_count": null,
   "metadata": {},
   "outputs": [],
   "source": [
    "from sklearn.model_selection import train_test_split\n",
    "\n",
    "X = df_cleaned[FEATURES]\n",
    "y = df_cleaned['Oberhollenzer_classes']\n",
    "seed = 42\n",
    "test_size = 0.25\n",
    "train, test = train_test_split(df_cleaned, test_size=test_size, random_state=seed, stratify=y)"
   ]
  },
  {
   "cell_type": "code",
   "execution_count": null,
   "metadata": {},
   "outputs": [
    {
     "data": {
      "text/plain": [
       "((692598, 13), (230866, 13))"
      ]
     },
     "execution_count": 15,
     "metadata": {},
     "output_type": "execute_result"
    }
   ],
   "source": [
    "train.shape, test.shape"
   ]
  },
  {
   "cell_type": "code",
   "execution_count": null,
   "metadata": {},
   "outputs": [
    {
     "data": {
      "text/plain": [
       "Oberhollenzer_classes\n",
       "5.00   0.22\n",
       "2.00   0.19\n",
       "6.00   0.18\n",
       "7.00   0.16\n",
       "4.00   0.10\n",
       "1.00   0.09\n",
       "0.00   0.06\n",
       "3.00   0.00\n",
       "Name: proportion, dtype: float64"
      ]
     },
     "execution_count": 19,
     "metadata": {},
     "output_type": "execute_result"
    }
   ],
   "source": [
    "train[\"Oberhollenzer_classes\"].value_counts(normalize=True)"
   ]
  },
  {
   "cell_type": "code",
   "execution_count": null,
   "metadata": {},
   "outputs": [
    {
     "data": {
      "text/plain": [
       "Oberhollenzer_classes\n",
       "5.00   0.22\n",
       "2.00   0.19\n",
       "6.00   0.18\n",
       "7.00   0.16\n",
       "4.00   0.10\n",
       "1.00   0.09\n",
       "0.00   0.06\n",
       "3.00   0.00\n",
       "Name: proportion, dtype: float64"
      ]
     },
     "execution_count": 20,
     "metadata": {},
     "output_type": "execute_result"
    }
   ],
   "source": [
    "test[\"Oberhollenzer_classes\"].value_counts(normalize=True)"
   ]
  },
  {
   "cell_type": "markdown",
   "metadata": {},
   "source": [
    "Typical geotechnical problem: data from same borehole should not be split between train and test set. Then there is a risk of data leakage."
   ]
  },
  {
   "cell_type": "code",
   "execution_count": null,
   "metadata": {},
   "outputs": [
    {
     "data": {
      "text/plain": [
       "array([ 907, 1138,  982, 1261,  874,  867, 1258,  916, 1291, 1221,  944,\n",
       "       1024, 1199,  873, 1101, 1104, 1278,  855,  966,  895,  866, 1302,\n",
       "       1200,  852, 1054, 1119,  910,  960, 1161, 1106,  879, 1023, 1005,\n",
       "        876,  857, 1295,  958,  887, 1008, 1306,  968,  964, 1296, 1281,\n",
       "        994, 1266, 1223, 1033, 1294, 1271, 1287,  991, 1208,  917, 1059,\n",
       "       1019, 1219, 1089, 1082,  959, 1313,  995, 1100, 1002, 1055, 1205,\n",
       "        933, 1156, 1016, 1096, 1336,  924, 1230, 1050, 1304,  969, 1125,\n",
       "       1142, 1185, 1228, 1061, 1279, 1078, 1323, 1117,  886, 1047,  989,\n",
       "       1207, 1080, 1128, 1129,  909,  961, 1292, 1225,  856, 1251, 1189,\n",
       "       1182, 1009, 1000, 1028, 1237, 1035, 1126,  860, 1224,  953,  931,\n",
       "        888, 1337, 1018, 1308, 1218, 1158, 1049, 1140, 1098, 1095, 1045,\n",
       "        939,  996, 1014, 1305,  997,  851,  942, 1263,  919, 1238,  973,\n",
       "       1212,  946,  993, 1090, 1116,  947, 1193,  972, 1034, 1053, 1097,\n",
       "       1148, 1141, 1194, 1204, 1275, 1309,  975, 1145, 1074, 1262, 1070,\n",
       "        979, 1264, 1132, 1173, 1240, 1162, 1277, 1137, 1210, 1184,  962,\n",
       "       1030, 1150, 1326, 1174, 1328, 1202, 1084, 1250, 1015,  986, 1048,\n",
       "       1109, 1083,  965,  970, 1274, 1075, 1246, 1286,  977, 1136, 1257,\n",
       "        957, 1214, 1169,  983, 1206,  894, 1300,  915, 1134,  935, 1093,\n",
       "       1037, 1010,  862,  885,  878, 1021,  992, 1242, 1186, 1072,  945,\n",
       "        901, 1091, 1216, 1222, 1029,  891, 1231, 1057, 1133, 1105, 1256,\n",
       "        854, 1107, 1290,  950, 1077, 1270, 1064, 1022,  948, 1143, 1066,\n",
       "        911,  897,  882, 1118, 1180, 1051, 1288,  877, 1234, 1081, 1111,\n",
       "       1139, 1013, 1268,  988,  912,  985,  978, 1315,  858, 1179, 1303,\n",
       "        914, 1151,  864, 1006,  890, 1233, 1299, 1247, 1067, 1130, 1276,\n",
       "       1272, 1190, 1087, 1058, 1063, 1146, 1310, 1102, 1327, 1298, 1154,\n",
       "       1203, 1120, 1052, 1012,  893, 1068, 1255, 1041, 1160, 1110,  955,\n",
       "        903, 1243,  850, 1283, 1321,  899,  930, 1056,  884, 1114, 1220,\n",
       "        941, 1192, 1325,  902, 1198, 1115, 1092,  863, 1166,  938, 1241,\n",
       "       1124, 1017, 1181, 1331,  984, 1157, 1319, 1172, 1094,  904, 1217,\n",
       "        900, 1025, 1040, 1335, 1038, 1020,  908,  898, 1197, 1086, 1103,\n",
       "        871, 1164, 1011, 1127, 1297, 1042, 1239, 1144, 1267, 1196, 1108,\n",
       "       1159,  999,  980, 1001, 1213,  949, 1226,  937, 1312, 1183, 1065,\n",
       "       1320,  971, 1338,  870, 1039,  921,  956, 1121, 1201, 1289,  952])"
      ]
     },
     "execution_count": 25,
     "metadata": {},
     "output_type": "execute_result"
    }
   ],
   "source": [
    "unique_ids = df['ID'].unique()\n",
    "train_ids, _ = train_test_split(unique_ids, test_size=test_size, random_state=seed)\n",
    "train_ids"
   ]
  },
  {
   "cell_type": "code",
   "execution_count": null,
   "metadata": {},
   "outputs": [],
   "source": [
    "train_df = df[df['ID'].isin(train_ids)]\n",
    "test_df = df[~df['ID'].isin(train_ids)]"
   ]
  },
  {
   "cell_type": "code",
   "execution_count": null,
   "metadata": {},
   "outputs": [
    {
     "data": {
      "text/plain": [
       "((697071, 13), (226431, 13))"
      ]
     },
     "execution_count": 29,
     "metadata": {},
     "output_type": "execute_result"
    }
   ],
   "source": [
    "train_df.shape, test_df.shape"
   ]
  },
  {
   "cell_type": "code",
   "execution_count": null,
   "metadata": {},
   "outputs": [
    {
     "data": {
      "text/plain": [
       "Oberhollenzer_classes\n",
       "5.00   0.22\n",
       "2.00   0.19\n",
       "6.00   0.18\n",
       "7.00   0.17\n",
       "4.00   0.09\n",
       "1.00   0.09\n",
       "0.00   0.05\n",
       "3.00   0.00\n",
       "Name: proportion, dtype: float64"
      ]
     },
     "execution_count": 34,
     "metadata": {},
     "output_type": "execute_result"
    }
   ],
   "source": [
    "train_df[\"Oberhollenzer_classes\"].value_counts(normalize=True)"
   ]
  },
  {
   "cell_type": "code",
   "execution_count": null,
   "metadata": {},
   "outputs": [
    {
     "data": {
      "text/plain": [
       "Oberhollenzer_classes\n",
       "5.00   0.20\n",
       "6.00   0.17\n",
       "2.00   0.17\n",
       "7.00   0.16\n",
       "4.00   0.12\n",
       "1.00   0.11\n",
       "0.00   0.07\n",
       "3.00   0.01\n",
       "Name: proportion, dtype: float64"
      ]
     },
     "execution_count": 35,
     "metadata": {},
     "output_type": "execute_result"
    }
   ],
   "source": [
    "test_df[\"Oberhollenzer_classes\"].value_counts(normalize=True)"
   ]
  },
  {
   "cell_type": "code",
   "execution_count": null,
   "metadata": {},
   "outputs": [
    {
     "name": "stderr",
     "output_type": "stream",
     "text": [
      "c:\\Users\\TFH\\AppData\\Local\\pypoetry\\Cache\\virtualenvs\\ml-course-intro-2024as-sxBbhF8U-py3.11\\Lib\\site-packages\\tqdm\\auto.py:21: TqdmWarning: IProgress not found. Please update jupyter and ipywidgets. See https://ipywidgets.readthedocs.io/en/stable/user_install.html\n",
      "  from .autonotebook import tqdm as notebook_tqdm\n",
      "Summarize dataset: 100%|██████████| 119/119 [00:24<00:00,  4.77it/s, Completed]                                           \n",
      "Summarize dataset: 100%|██████████| 119/119 [00:13<00:00,  8.99it/s, Completed]                                           \n",
      "Generate report structure: 100%|██████████| 1/1 [00:03<00:00,  3.24s/it]\n",
      "Render HTML: 100%|██████████| 1/1 [00:03<00:00,  3.89s/it]\n",
      "Export report to file: 100%|██████████| 1/1 [00:00<00:00, 32.20it/s]\n"
     ]
    }
   ],
   "source": [
    "# another round in ydate-profiling with splitted dataset\n",
    "from ydata_profiling import ProfileReport\n",
    "dfy_train = train_df.copy()[FEATURES + LABELS_O]\n",
    "dfy_test = test_df.copy()[FEATURES + LABELS_O]\n",
    "dfy_train['Oberhollenzer_classes'] = dfy_train['Oberhollenzer_classes'].astype(str)\n",
    "dfy_test['Oberhollenzer_classes'] = dfy_test['Oberhollenzer_classes'].astype(str)\n",
    "profile_train = ProfileReport(dfy_train, title=\"Profiling report - Train\")\n",
    "profile_test = ProfileReport(dfy_test, title=\"Profiling report - Test\")\n",
    "comparison_report = profile_train.compare(profile_test)\n",
    "comparison_report.to_file(\"dataset_profiling_comparison_cpt.html\")"
   ]
  }
 ],
 "metadata": {
  "kernelspec": {
   "display_name": "cpt-to-soiltype-SlwqZ-ZC-py3.12",
   "language": "python",
   "name": "python3"
  },
  "language_info": {
   "codemirror_mode": {
    "name": "ipython",
    "version": 3
   },
   "file_extension": ".py",
   "mimetype": "text/x-python",
   "name": "python",
   "nbconvert_exporter": "python",
   "pygments_lexer": "ipython3",
   "version": "3.12.7"
  }
 },
 "nbformat": 4,
 "nbformat_minor": 2
}
