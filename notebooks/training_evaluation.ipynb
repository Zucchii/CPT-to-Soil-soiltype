{
 "cells": [
  {
   "cell_type": "markdown",
   "metadata": {},
   "source": [
    "# Training and evaluation"
   ]
  },
  {
   "cell_type": "code",
   "execution_count": 1,
   "metadata": {},
   "outputs": [
    {
     "data": {
      "text/html": [
       "<div>\n",
       "<style scoped>\n",
       "    .dataframe tbody tr th:only-of-type {\n",
       "        vertical-align: middle;\n",
       "    }\n",
       "\n",
       "    .dataframe tbody tr th {\n",
       "        vertical-align: top;\n",
       "    }\n",
       "\n",
       "    .dataframe thead th {\n",
       "        text-align: right;\n",
       "    }\n",
       "</style>\n",
       "<table border=\"1\" class=\"dataframe\">\n",
       "  <thead>\n",
       "    <tr style=\"text-align: right;\">\n",
       "      <th></th>\n",
       "      <th>ID</th>\n",
       "      <th>test_type</th>\n",
       "      <th>basin_valley</th>\n",
       "      <th>Depth (m)</th>\n",
       "      <th>qc (MPa)</th>\n",
       "      <th>fs (kPa)</th>\n",
       "      <th>Rf (%)</th>\n",
       "      <th>σ,v (kPa)</th>\n",
       "      <th>u0 (kPa)</th>\n",
       "      <th>σ',v (kPa)</th>\n",
       "      <th>Qtn (-)</th>\n",
       "      <th>Fr (%)</th>\n",
       "      <th>Oberhollenzer_classes</th>\n",
       "    </tr>\n",
       "  </thead>\n",
       "  <tbody>\n",
       "    <tr>\n",
       "      <th>0</th>\n",
       "      <td>850</td>\n",
       "      <td>CPT</td>\n",
       "      <td>Zell basin</td>\n",
       "      <td>0.05</td>\n",
       "      <td>6.85</td>\n",
       "      <td>5.8</td>\n",
       "      <td>0.09</td>\n",
       "      <td>0.95</td>\n",
       "      <td>0.49</td>\n",
       "      <td>0.46</td>\n",
       "      <td>263.95</td>\n",
       "      <td>0.09</td>\n",
       "      <td>4.0</td>\n",
       "    </tr>\n",
       "    <tr>\n",
       "      <th>1</th>\n",
       "      <td>850</td>\n",
       "      <td>CPT</td>\n",
       "      <td>Zell basin</td>\n",
       "      <td>0.06</td>\n",
       "      <td>7.92</td>\n",
       "      <td>11.6</td>\n",
       "      <td>0.17</td>\n",
       "      <td>1.14</td>\n",
       "      <td>0.59</td>\n",
       "      <td>0.55</td>\n",
       "      <td>315.95</td>\n",
       "      <td>0.17</td>\n",
       "      <td>4.0</td>\n",
       "    </tr>\n",
       "    <tr>\n",
       "      <th>2</th>\n",
       "      <td>850</td>\n",
       "      <td>CPT</td>\n",
       "      <td>Zell basin</td>\n",
       "      <td>0.07</td>\n",
       "      <td>9.44</td>\n",
       "      <td>23.2</td>\n",
       "      <td>0.21</td>\n",
       "      <td>1.33</td>\n",
       "      <td>0.69</td>\n",
       "      <td>0.64</td>\n",
       "      <td>339.46</td>\n",
       "      <td>0.21</td>\n",
       "      <td>4.0</td>\n",
       "    </tr>\n",
       "    <tr>\n",
       "      <th>3</th>\n",
       "      <td>850</td>\n",
       "      <td>CPT</td>\n",
       "      <td>Zell basin</td>\n",
       "      <td>0.08</td>\n",
       "      <td>10.84</td>\n",
       "      <td>23.2</td>\n",
       "      <td>0.23</td>\n",
       "      <td>1.52</td>\n",
       "      <td>0.78</td>\n",
       "      <td>0.74</td>\n",
       "      <td>364.64</td>\n",
       "      <td>0.23</td>\n",
       "      <td>4.0</td>\n",
       "    </tr>\n",
       "    <tr>\n",
       "      <th>4</th>\n",
       "      <td>850</td>\n",
       "      <td>CPT</td>\n",
       "      <td>Zell basin</td>\n",
       "      <td>0.09</td>\n",
       "      <td>11.28</td>\n",
       "      <td>25.6</td>\n",
       "      <td>0.22</td>\n",
       "      <td>1.71</td>\n",
       "      <td>0.88</td>\n",
       "      <td>0.83</td>\n",
       "      <td>369.59</td>\n",
       "      <td>0.22</td>\n",
       "      <td>4.0</td>\n",
       "    </tr>\n",
       "  </tbody>\n",
       "</table>\n",
       "</div>"
      ],
      "text/plain": [
       "    ID test_type basin_valley  Depth (m)  qc (MPa)  fs (kPa)  Rf (%)  \\\n",
       "0  850       CPT   Zell basin       0.05      6.85       5.8    0.09   \n",
       "1  850       CPT   Zell basin       0.06      7.92      11.6    0.17   \n",
       "2  850       CPT   Zell basin       0.07      9.44      23.2    0.21   \n",
       "3  850       CPT   Zell basin       0.08     10.84      23.2    0.23   \n",
       "4  850       CPT   Zell basin       0.09     11.28      25.6    0.22   \n",
       "\n",
       "   σ,v (kPa)  u0 (kPa)  σ',v (kPa)  Qtn (-)  Fr (%)  Oberhollenzer_classes  \n",
       "0       0.95      0.49        0.46   263.95    0.09                    4.0  \n",
       "1       1.14      0.59        0.55   315.95    0.17                    4.0  \n",
       "2       1.33      0.69        0.64   339.46    0.21                    4.0  \n",
       "3       1.52      0.78        0.74   364.64    0.23                    4.0  \n",
       "4       1.71      0.88        0.83   369.59    0.22                    4.0  "
      ]
     },
     "execution_count": 1,
     "metadata": {},
     "output_type": "execute_result"
    }
   ],
   "source": [
    "# getting the dataset\n",
    "import pandas as pd\n",
    "FEATURES = ['Depth (m)', 'qc (MPa)', 'fs (kPa)','Rf (%)', 'σ,v (kPa)', 'u0 (kPa)',\"σ',v (kPa)\", 'Qtn (-)', 'Fr (%)']\n",
    "LABELS = 'Oberhollenzer_classes'\n",
    "FILEPATH_TRAIN = '../data/model_ready/dataset_train.csv'\n",
    "FILEPATH_TEST = '../data/model_ready/dataset_test.csv'\n",
    "df_train = pd.read_csv(FILEPATH_TRAIN, header=0)\n",
    "df_test = pd.read_csv(FILEPATH_TEST)\n",
    "df_full = pd.concat([df_train, df_test], axis=0)\n",
    "\n",
    "# remove class 3.0\n",
    "# df_train = df_train[df_train[LABELS] != 3.0]\n",
    "\n",
    "df_train.head()"
   ]
  },
  {
   "cell_type": "code",
   "execution_count": 12,
   "metadata": {},
   "outputs": [
    {
     "data": {
      "text/html": [
       "<div>\n",
       "<style scoped>\n",
       "    .dataframe tbody tr th:only-of-type {\n",
       "        vertical-align: middle;\n",
       "    }\n",
       "\n",
       "    .dataframe tbody tr th {\n",
       "        vertical-align: top;\n",
       "    }\n",
       "\n",
       "    .dataframe thead th {\n",
       "        text-align: right;\n",
       "    }\n",
       "</style>\n",
       "<table border=\"1\" class=\"dataframe\">\n",
       "  <thead>\n",
       "    <tr style=\"text-align: right;\">\n",
       "      <th></th>\n",
       "      <th>ID</th>\n",
       "      <th>test_type</th>\n",
       "      <th>basin_valley</th>\n",
       "      <th>Depth (m)</th>\n",
       "      <th>qc (MPa)</th>\n",
       "      <th>fs (kPa)</th>\n",
       "      <th>Rf (%)</th>\n",
       "      <th>σ,v (kPa)</th>\n",
       "      <th>u0 (kPa)</th>\n",
       "      <th>σ',v (kPa)</th>\n",
       "      <th>Qtn (-)</th>\n",
       "      <th>Fr (%)</th>\n",
       "      <th>Oberhollenzer_classes</th>\n",
       "    </tr>\n",
       "  </thead>\n",
       "  <tbody>\n",
       "    <tr>\n",
       "      <th>0</th>\n",
       "      <td>849</td>\n",
       "      <td>CPT</td>\n",
       "      <td>Zell basin</td>\n",
       "      <td>0.39</td>\n",
       "      <td>0.06</td>\n",
       "      <td>0.01</td>\n",
       "      <td>0.01</td>\n",
       "      <td>7.41</td>\n",
       "      <td>3.83</td>\n",
       "      <td>3.58</td>\n",
       "      <td>23.33</td>\n",
       "      <td>0.01</td>\n",
       "      <td>4.0</td>\n",
       "    </tr>\n",
       "    <tr>\n",
       "      <th>1</th>\n",
       "      <td>849</td>\n",
       "      <td>CPT</td>\n",
       "      <td>Zell basin</td>\n",
       "      <td>0.40</td>\n",
       "      <td>0.22</td>\n",
       "      <td>0.01</td>\n",
       "      <td>0.01</td>\n",
       "      <td>7.60</td>\n",
       "      <td>3.92</td>\n",
       "      <td>3.68</td>\n",
       "      <td>13.40</td>\n",
       "      <td>0.01</td>\n",
       "      <td>4.0</td>\n",
       "    </tr>\n",
       "    <tr>\n",
       "      <th>2</th>\n",
       "      <td>849</td>\n",
       "      <td>CPT</td>\n",
       "      <td>Zell basin</td>\n",
       "      <td>0.41</td>\n",
       "      <td>0.05</td>\n",
       "      <td>0.01</td>\n",
       "      <td>0.01</td>\n",
       "      <td>7.79</td>\n",
       "      <td>4.02</td>\n",
       "      <td>3.77</td>\n",
       "      <td>12.04</td>\n",
       "      <td>0.01</td>\n",
       "      <td>4.0</td>\n",
       "    </tr>\n",
       "    <tr>\n",
       "      <th>3</th>\n",
       "      <td>849</td>\n",
       "      <td>CPT</td>\n",
       "      <td>Zell basin</td>\n",
       "      <td>0.42</td>\n",
       "      <td>0.02</td>\n",
       "      <td>0.01</td>\n",
       "      <td>0.04</td>\n",
       "      <td>7.98</td>\n",
       "      <td>4.12</td>\n",
       "      <td>3.86</td>\n",
       "      <td>4.32</td>\n",
       "      <td>0.05</td>\n",
       "      <td>4.0</td>\n",
       "    </tr>\n",
       "    <tr>\n",
       "      <th>4</th>\n",
       "      <td>849</td>\n",
       "      <td>CPT</td>\n",
       "      <td>Zell basin</td>\n",
       "      <td>0.43</td>\n",
       "      <td>0.01</td>\n",
       "      <td>0.01</td>\n",
       "      <td>0.11</td>\n",
       "      <td>8.17</td>\n",
       "      <td>4.22</td>\n",
       "      <td>3.95</td>\n",
       "      <td>0.49</td>\n",
       "      <td>0.59</td>\n",
       "      <td>4.0</td>\n",
       "    </tr>\n",
       "  </tbody>\n",
       "</table>\n",
       "</div>"
      ],
      "text/plain": [
       "    ID test_type basin_valley  Depth (m)  qc (MPa)  fs (kPa)  Rf (%)  \\\n",
       "0  849       CPT   Zell basin       0.39      0.06      0.01    0.01   \n",
       "1  849       CPT   Zell basin       0.40      0.22      0.01    0.01   \n",
       "2  849       CPT   Zell basin       0.41      0.05      0.01    0.01   \n",
       "3  849       CPT   Zell basin       0.42      0.02      0.01    0.04   \n",
       "4  849       CPT   Zell basin       0.43      0.01      0.01    0.11   \n",
       "\n",
       "   σ,v (kPa)  u0 (kPa)  σ',v (kPa)  Qtn (-)  Fr (%)  Oberhollenzer_classes  \n",
       "0       7.41      3.83        3.58    23.33    0.01                    4.0  \n",
       "1       7.60      3.92        3.68    13.40    0.01                    4.0  \n",
       "2       7.79      4.02        3.77    12.04    0.01                    4.0  \n",
       "3       7.98      4.12        3.86     4.32    0.05                    4.0  \n",
       "4       8.17      4.22        3.95     0.49    0.59                    4.0  "
      ]
     },
     "execution_count": 12,
     "metadata": {},
     "output_type": "execute_result"
    }
   ],
   "source": [
    "df_test.head()"
   ]
  },
  {
   "cell_type": "markdown",
   "metadata": {},
   "source": [
    "## Exploring performance boundaries and computational effort"
   ]
  },
  {
   "cell_type": "markdown",
   "metadata": {},
   "source": [
    "### Dummy classifier"
   ]
  },
  {
   "cell_type": "code",
   "execution_count": 2,
   "metadata": {},
   "outputs": [
    {
     "name": "stdout",
     "output_type": "stream",
     "text": [
      "              precision    recall  f1-score   support\n",
      "\n",
      "         1.0       0.00      0.00      0.00     24578\n",
      "         2.0       0.00      0.00      0.00     46628\n",
      "         3.0       0.00      0.00      0.00      2196\n",
      "         4.0       0.00      0.00      0.00     22981\n",
      "         5.0       0.22      1.00      0.35     47640\n",
      "         6.0       0.00      0.00      0.00     41385\n",
      "         7.0       0.00      0.00      0.00     35553\n",
      "\n",
      "    accuracy                           0.22    220961\n",
      "   macro avg       0.03      0.14      0.05    220961\n",
      "weighted avg       0.05      0.22      0.08    220961\n",
      "\n"
     ]
    },
    {
     "name": "stderr",
     "output_type": "stream",
     "text": [
      "c:\\Users\\Zakieh\\AppData\\Local\\pypoetry\\Cache\\virtualenvs\\cpt-to-soiltype-SlwqZ-ZC-py3.12\\Lib\\site-packages\\sklearn\\metrics\\_classification.py:1531: UndefinedMetricWarning: Precision is ill-defined and being set to 0.0 in labels with no predicted samples. Use `zero_division` parameter to control this behavior.\n",
      "  _warn_prf(average, modifier, f\"{metric.capitalize()} is\", len(result))\n",
      "c:\\Users\\Zakieh\\AppData\\Local\\pypoetry\\Cache\\virtualenvs\\cpt-to-soiltype-SlwqZ-ZC-py3.12\\Lib\\site-packages\\sklearn\\metrics\\_classification.py:1531: UndefinedMetricWarning: Precision is ill-defined and being set to 0.0 in labels with no predicted samples. Use `zero_division` parameter to control this behavior.\n",
      "  _warn_prf(average, modifier, f\"{metric.capitalize()} is\", len(result))\n",
      "c:\\Users\\Zakieh\\AppData\\Local\\pypoetry\\Cache\\virtualenvs\\cpt-to-soiltype-SlwqZ-ZC-py3.12\\Lib\\site-packages\\sklearn\\metrics\\_classification.py:1531: UndefinedMetricWarning: Precision is ill-defined and being set to 0.0 in labels with no predicted samples. Use `zero_division` parameter to control this behavior.\n",
      "  _warn_prf(average, modifier, f\"{metric.capitalize()} is\", len(result))\n"
     ]
    }
   ],
   "source": [
    "from sklearn.dummy import DummyClassifier\n",
    "from sklearn.metrics import classification_report\n",
    "\n",
    "X_train = df_train[FEATURES]\n",
    "y_train = df_train[LABELS]\n",
    "X_test = df_test[FEATURES]\n",
    "y_test = df_test[LABELS]\n",
    "\n",
    "dummy_model = DummyClassifier(strategy='most_frequent')\n",
    "dummy_model.fit(X_train, y_train)\n",
    "y_pred = dummy_model.predict(X_test)\n",
    "print(classification_report(y_test, y_pred))"
   ]
  },
  {
   "cell_type": "markdown",
   "metadata": {},
   "source": [
    "Some new terms from the classification report:\n",
    "- support: number of occurrences of each class in y_true\n",
    "- weighted avg: average of the metrics, weighted by the support values\n",
    "- macro avg: average of the metrics for each class. Macro avg for recall is the same as balanced accuracy."
   ]
  },
  {
   "cell_type": "code",
   "execution_count": 3,
   "metadata": {},
   "outputs": [
    {
     "name": "stdout",
     "output_type": "stream",
     "text": [
      "              precision    recall  f1-score   support\n",
      "\n",
      "         1.0       0.55      0.44      0.49     24578\n",
      "         2.0       0.37      0.36      0.37     46628\n",
      "         3.0       0.00      0.00      0.00      2196\n",
      "         4.0       0.40      0.05      0.09     22981\n",
      "         5.0       0.38      0.39      0.39     47640\n",
      "         6.0       0.25      0.25      0.25     41385\n",
      "         7.0       0.39      0.69      0.49     35553\n",
      "\n",
      "    accuracy                           0.37    220961\n",
      "   macro avg       0.34      0.31      0.30    220961\n",
      "weighted avg       0.37      0.37      0.35    220961\n",
      "\n"
     ]
    },
    {
     "name": "stderr",
     "output_type": "stream",
     "text": [
      "c:\\Users\\Zakieh\\AppData\\Local\\pypoetry\\Cache\\virtualenvs\\cpt-to-soiltype-SlwqZ-ZC-py3.12\\Lib\\site-packages\\sklearn\\linear_model\\_logistic.py:469: ConvergenceWarning: lbfgs failed to converge (status=1):\n",
      "STOP: TOTAL NO. of ITERATIONS REACHED LIMIT.\n",
      "\n",
      "Increase the number of iterations (max_iter) or scale the data as shown in:\n",
      "    https://scikit-learn.org/stable/modules/preprocessing.html\n",
      "Please also refer to the documentation for alternative solver options:\n",
      "    https://scikit-learn.org/stable/modules/linear_model.html#logistic-regression\n",
      "  n_iter_i = _check_optimize_result(\n",
      "c:\\Users\\Zakieh\\AppData\\Local\\pypoetry\\Cache\\virtualenvs\\cpt-to-soiltype-SlwqZ-ZC-py3.12\\Lib\\site-packages\\sklearn\\metrics\\_classification.py:1531: UndefinedMetricWarning: Precision is ill-defined and being set to 0.0 in labels with no predicted samples. Use `zero_division` parameter to control this behavior.\n",
      "  _warn_prf(average, modifier, f\"{metric.capitalize()} is\", len(result))\n",
      "c:\\Users\\Zakieh\\AppData\\Local\\pypoetry\\Cache\\virtualenvs\\cpt-to-soiltype-SlwqZ-ZC-py3.12\\Lib\\site-packages\\sklearn\\metrics\\_classification.py:1531: UndefinedMetricWarning: Precision is ill-defined and being set to 0.0 in labels with no predicted samples. Use `zero_division` parameter to control this behavior.\n",
      "  _warn_prf(average, modifier, f\"{metric.capitalize()} is\", len(result))\n",
      "c:\\Users\\Zakieh\\AppData\\Local\\pypoetry\\Cache\\virtualenvs\\cpt-to-soiltype-SlwqZ-ZC-py3.12\\Lib\\site-packages\\sklearn\\metrics\\_classification.py:1531: UndefinedMetricWarning: Precision is ill-defined and being set to 0.0 in labels with no predicted samples. Use `zero_division` parameter to control this behavior.\n",
      "  _warn_prf(average, modifier, f\"{metric.capitalize()} is\", len(result))\n"
     ]
    }
   ],
   "source": [
    "from sklearn.linear_model import LogisticRegression\n",
    "\n",
    "lr_model = LogisticRegression(max_iter=100, random_state=42)\n",
    "lr_model.fit(X_train, y_train)\n",
    "y_pred_lr = lr_model.predict(X_test)\n",
    "print(classification_report(y_test, y_pred_lr))"
   ]
  },
  {
   "cell_type": "code",
   "execution_count": 4,
   "metadata": {},
   "outputs": [
    {
     "name": "stdout",
     "output_type": "stream",
     "text": [
      "              precision    recall  f1-score   support\n",
      "\n",
      "         1.0       0.41      0.43      0.42     24578\n",
      "         2.0       0.43      0.42      0.43     46628\n",
      "         3.0       0.25      0.08      0.12      2196\n",
      "         4.0       0.30      0.29      0.29     22981\n",
      "         5.0       0.40      0.38      0.39     47640\n",
      "         6.0       0.36      0.41      0.39     41385\n",
      "         7.0       0.40      0.38      0.39     35553\n",
      "\n",
      "    accuracy                           0.39    220961\n",
      "   macro avg       0.36      0.34      0.35    220961\n",
      "weighted avg       0.39      0.39      0.39    220961\n",
      "\n"
     ]
    }
   ],
   "source": [
    "from sklearn.neighbors import KNeighborsClassifier\n",
    "\n",
    "knn_model = KNeighborsClassifier(n_neighbors=5)\n",
    "knn_model.fit(X_train, y_train)\n",
    "y_pred_knn = knn_model.predict(X_test)\n",
    "print(classification_report(y_test, y_pred_knn))"
   ]
  },
  {
   "cell_type": "code",
   "execution_count": 5,
   "metadata": {},
   "outputs": [
    {
     "name": "stdout",
     "output_type": "stream",
     "text": [
      "              precision    recall  f1-score   support\n",
      "\n",
      "         1.0       0.43      0.44      0.43     24578\n",
      "         2.0       0.45      0.44      0.45     46628\n",
      "         3.0       0.26      0.06      0.10      2196\n",
      "         4.0       0.30      0.29      0.30     22981\n",
      "         5.0       0.41      0.40      0.40     47640\n",
      "         6.0       0.37      0.43      0.40     41385\n",
      "         7.0       0.46      0.43      0.44     35553\n",
      "\n",
      "    accuracy                           0.41    220961\n",
      "   macro avg       0.38      0.36      0.36    220961\n",
      "weighted avg       0.41      0.41      0.41    220961\n",
      "\n"
     ]
    }
   ],
   "source": [
    "from sklearn.ensemble import ExtraTreesClassifier\n",
    "\n",
    "et_model = ExtraTreesClassifier(n_estimators=100, random_state=42)\n",
    "et_model.fit(X_train, y_train)\n",
    "y_pred_et = et_model.predict(X_test)\n",
    "print(classification_report(y_test, y_pred_et))"
   ]
  },
  {
   "cell_type": "code",
   "execution_count": 6,
   "metadata": {},
   "outputs": [
    {
     "name": "stdout",
     "output_type": "stream",
     "text": [
      "              precision    recall  f1-score   support\n",
      "\n",
      "         1.0       0.43      0.43      0.43     24578\n",
      "         2.0       0.47      0.46      0.46     46628\n",
      "         3.0       0.24      0.06      0.10      2196\n",
      "         4.0       0.31      0.29      0.30     22981\n",
      "         5.0       0.41      0.40      0.41     47640\n",
      "         6.0       0.37      0.43      0.40     41385\n",
      "         7.0       0.46      0.44      0.45     35553\n",
      "\n",
      "    accuracy                           0.41    220961\n",
      "   macro avg       0.38      0.36      0.36    220961\n",
      "weighted avg       0.41      0.41      0.41    220961\n",
      "\n"
     ]
    }
   ],
   "source": [
    "from sklearn.ensemble import RandomForestClassifier\n",
    "\n",
    "rf_model = RandomForestClassifier(n_estimators=100, random_state=42)\n",
    "rf_model.fit(X_train, y_train)\n",
    "y_pred = rf_model.predict(X_test)\n",
    "print(classification_report(y_test, y_pred))"
   ]
  },
  {
   "cell_type": "markdown",
   "metadata": {},
   "source": [
    "#"
   ]
  },
  {
   "cell_type": "markdown",
   "metadata": {},
   "source": [
    "## Scaling and balancing the dataset"
   ]
  },
  {
   "cell_type": "code",
   "execution_count": 7,
   "metadata": {},
   "outputs": [
    {
     "name": "stdout",
     "output_type": "stream",
     "text": [
      "              precision    recall  f1-score   support\n",
      "\n",
      "         1.0       0.41      0.43      0.42     24578\n",
      "         2.0       0.43      0.43      0.43     46628\n",
      "         3.0       0.23      0.05      0.08      2196\n",
      "         4.0       0.30      0.28      0.29     22981\n",
      "         5.0       0.40      0.40      0.40     47640\n",
      "         6.0       0.36      0.42      0.39     41385\n",
      "         7.0       0.45      0.40      0.42     35553\n",
      "\n",
      "    accuracy                           0.40    220961\n",
      "   macro avg       0.37      0.34      0.35    220961\n",
      "weighted avg       0.40      0.40      0.39    220961\n",
      "\n"
     ]
    }
   ],
   "source": [
    "# Import necessary libraries\n",
    "import pandas as pd\n",
    "from sklearn.preprocessing import StandardScaler, MinMaxScaler, RobustScaler\n",
    "from imblearn.under_sampling import RandomUnderSampler\n",
    "from imblearn.over_sampling import SMOTE\n",
    "from sklearn.neighbors import KNeighborsClassifier\n",
    "from sklearn.metrics import accuracy_score, balanced_accuracy_score, classification_report\n",
    "\n",
    "# Step 1: Scaling the data\n",
    "scaler = StandardScaler()\n",
    "X_train = scaler.fit_transform(X_train)\n",
    "X_test = scaler.transform(X_test)\n",
    "\n",
    "# Step 2: Balancing with undersampling and oversampling\n",
    "# # Create dictionary for undersampling the 3 biggest classes\n",
    "# class_counts = y_train.value_counts()\n",
    "# biggest_classes = class_counts.nlargest(3).index\n",
    "# undersample_dict = {cls: int(class_counts.min()) for cls in biggest_classes}\n",
    "\n",
    "# undersampler = RandomUnderSampler(sampling_strategy=undersample_dict, random_state=42)\n",
    "# X_train, y_train = undersampler.fit_resample(X_train, y_train)\n",
    "\n",
    "# smote = SMOTE(random_state=42, sampling_strategy='auto')\n",
    "# X_train, y_train = smote.fit_resample(X_train, y_train)\n",
    "\n",
    "# Step 3: Train the KNN model\n",
    "knn_model = KNeighborsClassifier(n_neighbors=5)\n",
    "knn_model.fit(X_train, y_train)\n",
    "\n",
    "# Step 4: Make predictions and evaluate\n",
    "y_pred = knn_model.predict(X_test)\n",
    "print(classification_report(y_test, y_pred))\n"
   ]
  },
  {
   "cell_type": "markdown",
   "metadata": {},
   "source": [
    "## Pipeline for training and evaluation\n",
    "To avoid data leakage and for a more condense implementation we use the `Pipeline` class from `sklearn`."
   ]
  },
  {
   "cell_type": "code",
   "execution_count": 8,
   "metadata": {},
   "outputs": [
    {
     "name": "stdout",
     "output_type": "stream",
     "text": [
      "              precision    recall  f1-score   support\n",
      "\n",
      "         1.0       0.37      0.47      0.42     24578\n",
      "         2.0       0.44      0.41      0.42     46628\n",
      "         3.0       0.19      0.19      0.19      2196\n",
      "         4.0       0.28      0.31      0.29     22981\n",
      "         5.0       0.41      0.34      0.37     47640\n",
      "         6.0       0.37      0.41      0.39     41385\n",
      "         7.0       0.45      0.41      0.43     35553\n",
      "\n",
      "    accuracy                           0.39    220961\n",
      "   macro avg       0.36      0.36      0.36    220961\n",
      "weighted avg       0.39      0.39      0.39    220961\n",
      "\n"
     ]
    }
   ],
   "source": [
    "# Import necessary libraries\n",
    "from imblearn.pipeline import make_pipeline\n",
    "from sklearn.preprocessing import StandardScaler\n",
    "from imblearn.under_sampling import RandomUnderSampler\n",
    "from imblearn.over_sampling import SMOTE\n",
    "from sklearn.ensemble import RandomForestClassifier\n",
    "from sklearn.metrics import accuracy_score\n",
    "\n",
    "# Make a pipeline for scaling, undersampling, oversampling, and training\n",
    "pipeline = make_pipeline(\n",
    "    StandardScaler(),\n",
    "    # RandomUnderSampler(random_state=42, sampling_strategy=undersample_dict),\n",
    "    SMOTE(random_state=42, sampling_strategy='auto'),\n",
    "    KNeighborsClassifier(n_neighbors=5)\n",
    ")\n",
    "\n",
    "# Train the model using the pipeline\n",
    "pipeline.fit(X_train, y_train)\n",
    "\n",
    "# Make predictions and evaluate\n",
    "y_pred = pipeline.predict(X_test)\n",
    "print(classification_report(y_test, y_pred))"
   ]
  },
  {
   "cell_type": "code",
   "execution_count": 9,
   "metadata": {},
   "outputs": [
    {
     "data": {
      "image/png": "[encoded data removed]",
      "text/plain": [
       "<Figure size 640x480 with 2 Axes>"
      ]
     },
     "metadata": {},
     "output_type": "display_data"
    }
   ],
   "source": [
    "# Step 6: Compute confusion matrix\n",
    "from sklearn.metrics import confusion_matrix\n",
    "import matplotlib.pyplot as plt\n",
    "from sklearn.metrics import ConfusionMatrixDisplay\n",
    "conf_matrix = confusion_matrix(y_test, y_pred, normalize='true')\n",
    "\n",
    "# Visualise the confusion matrix in the standard scikit-learn way\n",
    "disp = ConfusionMatrixDisplay(confusion_matrix=conf_matrix, display_labels=knn_model.classes_)\n",
    "disp.plot(cmap=\"Blues\")\n",
    "plt.title(\"Confusion Matrix\")\n",
    "plt.show()"
   ]
  },
  {
   "cell_type": "markdown",
   "metadata": {},
   "source": [
    "## Cross validation"
   ]
  },
  {
   "cell_type": "code",
   "execution_count": 10,
   "metadata": {},
   "outputs": [
    {
     "ename": "TypeError",
     "evalue": "cannot concatenate object of type '<class 'numpy.ndarray'>'; only Series and DataFrame objs are valid",
     "output_type": "error",
     "traceback": [
      "\u001b[1;31m---------------------------------------------------------------------------\u001b[0m",
      "\u001b[1;31mTypeError\u001b[0m                                 Traceback (most recent call last)",
      "Cell \u001b[1;32mIn[10], line 2\u001b[0m\n\u001b[0;32m      1\u001b[0m \u001b[38;5;28;01mfrom\u001b[39;00m \u001b[38;5;21;01msklearn\u001b[39;00m\u001b[38;5;21;01m.\u001b[39;00m\u001b[38;5;21;01mmodel_selection\u001b[39;00m \u001b[38;5;28;01mimport\u001b[39;00m cross_validate, StratifiedKFold\n\u001b[1;32m----> 2\u001b[0m X_combined \u001b[38;5;241m=\u001b[39m \u001b[43mpd\u001b[49m\u001b[38;5;241;43m.\u001b[39;49m\u001b[43mconcat\u001b[49m\u001b[43m(\u001b[49m\u001b[43m[\u001b[49m\u001b[43mX_train\u001b[49m\u001b[43m,\u001b[49m\u001b[43m \u001b[49m\u001b[43mX_test\u001b[49m\u001b[43m]\u001b[49m\u001b[43m,\u001b[49m\u001b[43m \u001b[49m\u001b[43maxis\u001b[49m\u001b[38;5;241;43m=\u001b[39;49m\u001b[38;5;241;43m0\u001b[39;49m\u001b[43m)\u001b[49m\n\u001b[0;32m      3\u001b[0m y_combined \u001b[38;5;241m=\u001b[39m pd\u001b[38;5;241m.\u001b[39mconcat([y_train, y_test], axis\u001b[38;5;241m=\u001b[39m\u001b[38;5;241m0\u001b[39m)\n\u001b[0;32m      5\u001b[0m \u001b[38;5;66;03m# Create pipeline for scaling, oversampling, and KNN model\u001b[39;00m\n",
      "File \u001b[1;32mc:\\Users\\Zakieh\\AppData\\Local\\pypoetry\\Cache\\virtualenvs\\cpt-to-soiltype-SlwqZ-ZC-py3.12\\Lib\\site-packages\\pandas\\core\\reshape\\concat.py:382\u001b[0m, in \u001b[0;36mconcat\u001b[1;34m(objs, axis, join, ignore_index, keys, levels, names, verify_integrity, sort, copy)\u001b[0m\n\u001b[0;32m    379\u001b[0m \u001b[38;5;28;01melif\u001b[39;00m copy \u001b[38;5;129;01mand\u001b[39;00m using_copy_on_write():\n\u001b[0;32m    380\u001b[0m     copy \u001b[38;5;241m=\u001b[39m \u001b[38;5;28;01mFalse\u001b[39;00m\n\u001b[1;32m--> 382\u001b[0m op \u001b[38;5;241m=\u001b[39m \u001b[43m_Concatenator\u001b[49m\u001b[43m(\u001b[49m\n\u001b[0;32m    383\u001b[0m \u001b[43m    \u001b[49m\u001b[43mobjs\u001b[49m\u001b[43m,\u001b[49m\n\u001b[0;32m    384\u001b[0m \u001b[43m    \u001b[49m\u001b[43maxis\u001b[49m\u001b[38;5;241;43m=\u001b[39;49m\u001b[43maxis\u001b[49m\u001b[43m,\u001b[49m\n\u001b[0;32m    385\u001b[0m \u001b[43m    \u001b[49m\u001b[43mignore_index\u001b[49m\u001b[38;5;241;43m=\u001b[39;49m\u001b[43mignore_index\u001b[49m\u001b[43m,\u001b[49m\n\u001b[0;32m    386\u001b[0m \u001b[43m    \u001b[49m\u001b[43mjoin\u001b[49m\u001b[38;5;241;43m=\u001b[39;49m\u001b[43mjoin\u001b[49m\u001b[43m,\u001b[49m\n\u001b[0;32m    387\u001b[0m \u001b[43m    \u001b[49m\u001b[43mkeys\u001b[49m\u001b[38;5;241;43m=\u001b[39;49m\u001b[43mkeys\u001b[49m\u001b[43m,\u001b[49m\n\u001b[0;32m    388\u001b[0m \u001b[43m    \u001b[49m\u001b[43mlevels\u001b[49m\u001b[38;5;241;43m=\u001b[39;49m\u001b[43mlevels\u001b[49m\u001b[43m,\u001b[49m\n\u001b[0;32m    389\u001b[0m \u001b[43m    \u001b[49m\u001b[43mnames\u001b[49m\u001b[38;5;241;43m=\u001b[39;49m\u001b[43mnames\u001b[49m\u001b[43m,\u001b[49m\n\u001b[0;32m    390\u001b[0m \u001b[43m    \u001b[49m\u001b[43mverify_integrity\u001b[49m\u001b[38;5;241;43m=\u001b[39;49m\u001b[43mverify_integrity\u001b[49m\u001b[43m,\u001b[49m\n\u001b[0;32m    391\u001b[0m \u001b[43m    \u001b[49m\u001b[43mcopy\u001b[49m\u001b[38;5;241;43m=\u001b[39;49m\u001b[43mcopy\u001b[49m\u001b[43m,\u001b[49m\n\u001b[0;32m    392\u001b[0m \u001b[43m    \u001b[49m\u001b[43msort\u001b[49m\u001b[38;5;241;43m=\u001b[39;49m\u001b[43msort\u001b[49m\u001b[43m,\u001b[49m\n\u001b[0;32m    393\u001b[0m \u001b[43m\u001b[49m\u001b[43m)\u001b[49m\n\u001b[0;32m    395\u001b[0m \u001b[38;5;28;01mreturn\u001b[39;00m op\u001b[38;5;241m.\u001b[39mget_result()\n",
      "File \u001b[1;32mc:\\Users\\Zakieh\\AppData\\Local\\pypoetry\\Cache\\virtualenvs\\cpt-to-soiltype-SlwqZ-ZC-py3.12\\Lib\\site-packages\\pandas\\core\\reshape\\concat.py:448\u001b[0m, in \u001b[0;36m_Concatenator.__init__\u001b[1;34m(self, objs, axis, join, keys, levels, names, ignore_index, verify_integrity, copy, sort)\u001b[0m\n\u001b[0;32m    445\u001b[0m objs, keys \u001b[38;5;241m=\u001b[39m \u001b[38;5;28mself\u001b[39m\u001b[38;5;241m.\u001b[39m_clean_keys_and_objs(objs, keys)\n\u001b[0;32m    447\u001b[0m \u001b[38;5;66;03m# figure out what our result ndim is going to be\u001b[39;00m\n\u001b[1;32m--> 448\u001b[0m ndims \u001b[38;5;241m=\u001b[39m \u001b[38;5;28;43mself\u001b[39;49m\u001b[38;5;241;43m.\u001b[39;49m\u001b[43m_get_ndims\u001b[49m\u001b[43m(\u001b[49m\u001b[43mobjs\u001b[49m\u001b[43m)\u001b[49m\n\u001b[0;32m    449\u001b[0m sample, objs \u001b[38;5;241m=\u001b[39m \u001b[38;5;28mself\u001b[39m\u001b[38;5;241m.\u001b[39m_get_sample_object(objs, ndims, keys, names, levels)\n\u001b[0;32m    451\u001b[0m \u001b[38;5;66;03m# Standardize axis parameter to int\u001b[39;00m\n",
      "File \u001b[1;32mc:\\Users\\Zakieh\\AppData\\Local\\pypoetry\\Cache\\virtualenvs\\cpt-to-soiltype-SlwqZ-ZC-py3.12\\Lib\\site-packages\\pandas\\core\\reshape\\concat.py:489\u001b[0m, in \u001b[0;36m_Concatenator._get_ndims\u001b[1;34m(self, objs)\u001b[0m\n\u001b[0;32m    484\u001b[0m     \u001b[38;5;28;01mif\u001b[39;00m \u001b[38;5;129;01mnot\u001b[39;00m \u001b[38;5;28misinstance\u001b[39m(obj, (ABCSeries, ABCDataFrame)):\n\u001b[0;32m    485\u001b[0m         msg \u001b[38;5;241m=\u001b[39m (\n\u001b[0;32m    486\u001b[0m             \u001b[38;5;124mf\u001b[39m\u001b[38;5;124m\"\u001b[39m\u001b[38;5;124mcannot concatenate object of type \u001b[39m\u001b[38;5;124m'\u001b[39m\u001b[38;5;132;01m{\u001b[39;00m\u001b[38;5;28mtype\u001b[39m(obj)\u001b[38;5;132;01m}\u001b[39;00m\u001b[38;5;124m'\u001b[39m\u001b[38;5;124m; \u001b[39m\u001b[38;5;124m\"\u001b[39m\n\u001b[0;32m    487\u001b[0m             \u001b[38;5;124m\"\u001b[39m\u001b[38;5;124monly Series and DataFrame objs are valid\u001b[39m\u001b[38;5;124m\"\u001b[39m\n\u001b[0;32m    488\u001b[0m         )\n\u001b[1;32m--> 489\u001b[0m         \u001b[38;5;28;01mraise\u001b[39;00m \u001b[38;5;167;01mTypeError\u001b[39;00m(msg)\n\u001b[0;32m    491\u001b[0m     ndims\u001b[38;5;241m.\u001b[39madd(obj\u001b[38;5;241m.\u001b[39mndim)\n\u001b[0;32m    492\u001b[0m \u001b[38;5;28;01mreturn\u001b[39;00m ndims\n",
      "\u001b[1;31mTypeError\u001b[0m: cannot concatenate object of type '<class 'numpy.ndarray'>'; only Series and DataFrame objs are valid"
     ]
    }
   ],
   "source": [
    "from sklearn.model_selection import cross_validate, StratifiedKFold\n",
    "X_combined = pd.concat([X_train, X_test], axis=0)\n",
    "y_combined = pd.concat([y_train, y_test], axis=0)\n",
    "\n",
    "# Create pipeline for scaling, oversampling, and KNN model\n",
    "pipeline = make_pipeline(\n",
    "    StandardScaler(),\n",
    "    SMOTE(random_state=42, sampling_strategy='auto'),\n",
    "    KNeighborsClassifier(n_neighbors=5)\n",
    ")\n",
    "\n",
    "# Perform cross-validation\n",
    "cv = StratifiedKFold(n_splits=5, shuffle=True, random_state=42)\n",
    "scoring = ['balanced_accuracy', 'precision_macro', 'recall_macro', 'accuracy']\n",
    "cross_val_results = cross_validate(pipeline, X_combined, y_combined, cv=cv, scoring=scoring)\n",
    "\n",
    "# Print cross-validation results\n",
    "print(\"Cross-Validation Results:\")\n",
    "print(\"Balanced Accuracy:\", cross_val_results['test_balanced_accuracy'].mean())\n",
    "print(\"Precision:\", cross_val_results['test_precision_macro'].mean())\n",
    "print(\"Recall:\", cross_val_results['test_recall_macro'].mean())\n",
    "print(\"Accuracy:\", cross_val_results['test_accuracy'].mean())\n",
    "\n",
    "# print all values for balanced accuracy\n",
    "print(cross_val_results['test_balanced_accuracy'])\n"
   ]
  },
  {
   "cell_type": "markdown",
   "metadata": {},
   "source": [
    "New try with grouped splitter"
   ]
  },
  {
   "cell_type": "code",
   "execution_count": 11,
   "metadata": {},
   "outputs": [
    {
     "name": "stdout",
     "output_type": "stream",
     "text": [
      "Cross-Validation Results:\n",
      "Balanced Accuracy: 0.36366846531943675\n",
      "Precision: 0.3379056758446408\n",
      "Recall: 0.36366846531943675\n",
      "Accuracy: 0.3855910042160221\n",
      "[0.35103631 0.36325454 0.36486082 0.36499763 0.37419303]\n"
     ]
    }
   ],
   "source": [
    "from sklearn.model_selection import cross_validate, StratifiedKFold, GroupKFold\n",
    "\n",
    "ID = \"ID\"\n",
    "X_train = df_train[FEATURES + [ID]]\n",
    "y_train = df_train[LABELS]\n",
    "X_test = df_test[FEATURES + [ID]]\n",
    "y_test = df_test[LABELS]\n",
    "\n",
    "X_combined = pd.concat([X_train, X_test], axis=0)\n",
    "y_combined = pd.concat([y_train, y_test], axis=0)\n",
    "groups = X_combined[ID]  # Use the drillhole ID to group the data\n",
    "\n",
    "# Drop the ID column for training\n",
    "X_combined = X_combined[FEATURES]\n",
    "\n",
    "# Create pipeline for scaling, oversampling, and KNN model\n",
    "pipeline = make_pipeline(\n",
    "    StandardScaler(),\n",
    "    SMOTE(random_state=42, sampling_strategy='auto'),\n",
    "    KNeighborsClassifier(n_neighbors=5)\n",
    ")\n",
    "\n",
    "# Perform cross-validation using GroupKFold to ensure no drillhole is split between train and test\n",
    "cv = GroupKFold(n_splits=5)\n",
    "scoring = ['balanced_accuracy', 'precision_macro', 'recall_macro', 'accuracy']\n",
    "cross_val_results = cross_validate(pipeline, X_combined, y_combined, cv=cv, groups=groups, scoring=scoring)\n",
    "\n",
    "# Print cross-validation results\n",
    "print(\"Cross-Validation Results:\")\n",
    "print(\"Balanced Accuracy:\", cross_val_results['test_balanced_accuracy'].mean())\n",
    "print(\"Precision:\", cross_val_results['test_precision_macro'].mean())\n",
    "print(\"Recall:\", cross_val_results['test_recall_macro'].mean())\n",
    "print(\"Accuracy:\", cross_val_results['test_accuracy'].mean())\n",
    "\n",
    "# print all values for balanced accuracy\n",
    "print(cross_val_results['test_balanced_accuracy'])"
   ]
  }
 ],
 "metadata": {
  "kernelspec": {
   "display_name": "cpt-to-soiltype-SlwqZ-ZC-py3.12",
   "language": "python",
   "name": "python3"
  },
  "language_info": {
   "codemirror_mode": {
    "name": "ipython",
    "version": 3
   },
   "file_extension": ".py",
   "mimetype": "text/x-python",
   "name": "python",
   "nbconvert_exporter": "python",
   "pygments_lexer": "ipython3",
   "version": "3.12.7"
  }
 },
 "nbformat": 4,
 "nbformat_minor": 2
}
